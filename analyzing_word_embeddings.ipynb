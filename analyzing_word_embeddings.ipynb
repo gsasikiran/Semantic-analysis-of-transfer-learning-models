{
  "nbformat": 4,
  "nbformat_minor": 0,
  "metadata": {
    "colab": {
      "name": "analyzing_word_embeddings.ipynb",
      "version": "0.3.2",
      "provenance": [],
      "collapsed_sections": [],
      "include_colab_link": true
    },
    "kernelspec": {
      "name": "python3",
      "display_name": "Python 3"
    },
    "accelerator": "TPU"
  },
  "cells": [
    {
      "cell_type": "markdown",
      "metadata": {
        "id": "view-in-github",
        "colab_type": "text"
      },
      "source": [
        "<a href=\"https://colab.research.google.com/github/gsasikiran/Semantic-similarity/blob/master/analyzing_word_embeddings.ipynb\" target=\"_parent\"><img src=\"https://colab.research.google.com/assets/colab-badge.svg\" alt=\"Open In Colab\"/></a>"
      ]
    },
    {
      "cell_type": "markdown",
      "metadata": {
        "id": "SlnLlc0-xsUp",
        "colab_type": "text"
      },
      "source": [
        "## Downloading the word embeddings"
      ]
    },
    {
      "cell_type": "code",
      "metadata": {
        "id": "kmd_k1O4s3t2",
        "colab_type": "code",
        "colab": {}
      },
      "source": [
        "import numpy as np\n",
        "!pip3 install numpy --upgrade"
      ],
      "execution_count": 0,
      "outputs": []
    },
    {
      "cell_type": "code",
      "metadata": {
        "id": "kfaLH6Lwsmzw",
        "colab_type": "code",
        "colab": {}
      },
      "source": [
        "!pip3 install bert-embedding\n",
        "!pip3 install allennlp\n",
        "!pip3 install pytorch_transformers"
      ],
      "execution_count": 0,
      "outputs": []
    },
    {
      "cell_type": "code",
      "metadata": {
        "id": "E5kDlws-tjD6",
        "colab_type": "code",
        "colab": {}
      },
      "source": [
        "!pip install --upgrade numpy\n",
        "import scipy\n",
        "\n",
        "import nltk\n",
        "nltk.download('punkt')\n",
        "\n",
        "import tarfile\n",
        "\n",
        "from nltk.tokenize import word_tokenize\n",
        "from bert_embedding import BertEmbedding\n",
        "from allennlp.commands.elmo import ElmoEmbedder\n",
        "\n",
        "import torch\n",
        "from pytorch_transformers import *\n",
        "\n",
        "import seaborn as sns\n",
        "import matplotlib.pyplot as plt\n",
        "%matplotlib inline"
      ],
      "execution_count": 0,
      "outputs": []
    },
    {
      "cell_type": "markdown",
      "metadata": {
        "id": "p-UGT--Ax0Dc",
        "colab_type": "text"
      },
      "source": [
        "## Preprocessing:\n",
        "* Tokenize sentences\n",
        "* Assigning corresponding word embeddings\n",
        "* Create cosine similarity matrix based on the distances between the word embeddings."
      ]
    },
    {
      "cell_type": "code",
      "metadata": {
        "id": "xbx8W5HhTI4M",
        "colab_type": "code",
        "colab": {}
      },
      "source": [
        "class Embeddings:\n",
        "  \n",
        "  def __init__(self, sentence_1, sentence_2):\n",
        "    self.sentence_1 = sentence_1\n",
        "    self.sentence_2 = sentence_2\n",
        "    self.tokenized_sent_1 = word_tokenize(self.sentence_1)\n",
        "    self.tokenized_sent_2 = word_tokenize(self.sentence_2)\n",
        "    \n",
        "  def get_elmo_embedding(self):\n",
        "    '''Creates ELMo word embeddings for the given words\n",
        "    param: list, list\n",
        "    returns: ndarray, ndarray\n",
        "      Returns the ELMo embeddings of the tokens of two sentences'''\n",
        "    \n",
        "    elmo = ElmoEmbedder()\n",
        "    \n",
        "    elmo_embedding_1 = elmo.embed_sentence(self.tokenized_sent_1)\n",
        "    elmo_embedding_2 = elmo.embed_sentence(self.tokenized_sent_2)\n",
        "\n",
        "    return elmo_embedding_1, elmo_embedding_2\n",
        "    \n",
        "  def get_bert_embedding(self):\n",
        "    '''Creates word embeddings taken from BERT language representation\n",
        "    returns: list, list\n",
        "      Returns the BERT embeddings of the tokens of two sentences'''\n",
        "    \n",
        "    bert_embedding_1  = BertEmbedding().embedding(sentences = self.tokenized_sent_1)\n",
        "    bert_embedding_2  = BertEmbedding().embedding(sentences = self.tokenized_sent_2)\n",
        "    \n",
        "    return bert_embedding_1, bert_embedding_2\n",
        "    \n",
        "  def get_gpt_embedding(self):\n",
        "    '''Creates word embeddings of GPT\n",
        "    returns: tensor\n",
        "      Returns the GPT embeddings of the tokens of two sentences'''\n",
        "    \n",
        "    model= torch.hub.load('huggingface/pytorch-pretrained-BERT', 'openAIGPTModel', 'openai-gpt')\n",
        "    tokenizer=torch.hub.load('huggingface/pytorch-pretrained-BERT', 'openAIGPTTokenizer', 'openai-gpt')\n",
        "\n",
        "    indexed_token_1 = tokenizer.convert_tokens_to_ids(self.tokenized_sent_1)\n",
        "    indexed_token_2 = tokenizer.convert_tokens_to_ids(self.tokenized_sent_2)\n",
        "    \n",
        "    tokens_tensor_1 = torch.tensor([indexed_token_1])\n",
        "    tokens_tensor_2 = torch.tensor([indexed_token_2])\n",
        "\n",
        "    gpt_embedding_1 = model(tokens_tensor_1)\n",
        "    gpt_embedding_2 = model(tokens_tensor_2)\n",
        "\n",
        "    return gpt_embedding_1, gpt_embedding_2"
      ],
      "execution_count": 0,
      "outputs": []
    },
    {
      "cell_type": "markdown",
      "metadata": {
        "id": "nOpZ0j6fK0Sy",
        "colab_type": "text"
      },
      "source": [
        "### Converting Embeddings to list "
      ]
    },
    {
      "cell_type": "code",
      "metadata": {
        "id": "mFHwEu2goLyN",
        "colab_type": "code",
        "colab": {}
      },
      "source": [
        "class Embedding2Array:\n",
        "  def elmo(self,embedding):\n",
        "    ''' Creates the list of arrays of each corresponding word\n",
        "    parameters\n",
        "    embedding : ndarray\n",
        "    returns: list\n",
        "      Returns the list of elmo embedding of each word \n",
        "    '''\n",
        "    word_array = []\n",
        "    for i in range(len(embedding[2])):\n",
        "      word_array.append(embedding[2][i])\n",
        "    return word_array\n",
        "    \n",
        "  def bert(self,embedding):\n",
        "    ''' Creates the list of arrays of each corresponding word\n",
        "    param\n",
        "    embedding: list\n",
        "    returns: list\n",
        "      Returns the list of BERT embedding of each word \n",
        "    '''\n",
        "    word_array = []\n",
        "    for i in range(len(embedding)):\n",
        "      word_array.append(embedding[i][1][0])\n",
        "    return word_array\n",
        "  \n",
        "  def gpt(self,embedding):\n",
        "    ''' Creates the list of arrays of each corresponding word\n",
        "    param\n",
        "    embedding: tensor\n",
        "    returns: list\n",
        "      Returns the list of GPT embedding of each word \n",
        "    '''\n",
        "    word_array = []\n",
        "\n",
        "    for i in range(embedding[0].shape[1]):\n",
        "      word_array.append(embedding[0][0][i].tolist())\n",
        "\n",
        "    return word_array"
      ],
      "execution_count": 0,
      "outputs": []
    },
    {
      "cell_type": "markdown",
      "metadata": {
        "id": "mRpk1Ju0yMFk",
        "colab_type": "text"
      },
      "source": [
        " ## Processing:\n",
        " * Creating a cosine similarity matrix\n",
        " * Plotting the similarity matrix based on the cosine matrix from preprocessing class\n",
        " * Creating a list of similar words of one sentence for each word in the other sentence."
      ]
    },
    {
      "cell_type": "code",
      "metadata": {
        "id": "IiTPsU2hxWcU",
        "colab_type": "code",
        "colab": {}
      },
      "source": [
        "class SimilarityFunctions:\n",
        "\n",
        "  def __init__(self, sentence_1, sentence_2, word_array_1, word_array_2):\n",
        "    self.sentence_1 = sentence_1\n",
        "    self.sentence_2 = sentence_2\n",
        "    self.word_array_1 = word_array_1\n",
        "    self.word_array_2 = word_array_2\n",
        "  \n",
        "  def cosine_similarity_matrix(self):\n",
        "    '''\n",
        "    Creates a matrix depicting the cosine distances between the words of two sentences\n",
        "    returns: array\n",
        "      Similarity matrix of words in two sentences\n",
        "    '''\n",
        "    matrix = np.zeros((len(self.word_array_1), len(self.word_array_2)))\n",
        "\n",
        "    for i in range(0, len(self.word_array_1)):\n",
        "      for j in range(0, len(self.word_array_2)):\n",
        "        matrix[i][j]= scipy.spatial.distance.cosine(self.word_array_1[i], self.word_array_2[j])\n",
        "    return matrix.T\n",
        "  \n",
        "  def plot_similarity_matrix(self, title):\n",
        "    '''Plot the similarity matrix of two sentences\n",
        "    param:\n",
        "    title: str\n",
        "      Labels the plot with the corresponding title\n",
        "    returns: None\n",
        "    '''\n",
        "    x_labels, y_labels = word_tokenize(self.sentence_1), word_tokenize(self.sentence_2)\n",
        "    similarity_matrix = self.cosine_similarity_matrix()\n",
        "    sns.heatmap(similarity_matrix, vmin=0, vmax=1, xticklabels=x_labels, yticklabels=y_labels, cmap=\"YlGnBu\", annot = True)\n",
        "    plt.title(title)\n",
        "    plt.show()    \n",
        "  \n",
        "  def get_similar_words(self):\n",
        "    '''Prints similar word from second sentence for each word in the first sentence\n",
        "    returns: list of similar words\n",
        "    '''\n",
        "\n",
        "    token_1 = word_tokenize(self.sentence_1)\n",
        "    token_2 = word_tokenize(self.sentence_2)\n",
        "    \n",
        "    similarity_matrix = self.cosine_similarity_matrix()\n",
        "    \n",
        "    similar_word_dict = {}\n",
        "    for row in range(0,len(similarity_matrix[0])):\n",
        "      \n",
        "      min_val = min(similarity_matrix.T[row]) #Here min value of transpose is found. To understand it print similarity matrix and find the logic\n",
        "      index = (np.where(similarity_matrix.T[row] == min_val))[0]\n",
        "      similar_word_list = []\n",
        "      \n",
        "      for i in range(0,len(index)):\n",
        "        similar_word_list.append(token_2[index[i]])\n",
        "      similar_word_dict[token_1[row]] = similar_word_list\n",
        "      \n",
        "    print('Similar words in two sentences are :', similar_word_dict)"
      ],
      "execution_count": 0,
      "outputs": []
    },
    {
      "cell_type": "code",
      "metadata": {
        "id": "dtlgJh_X46W4",
        "colab_type": "code",
        "colab": {}
      },
      "source": [
        "class Main:\n",
        "  def __init__(self, sentence_1, sentence_2):\n",
        "    self.first_sentence = sentence_1\n",
        "    self.second_sentence = sentence_2\n",
        "\n",
        "  def elmo(self):\n",
        "    ''' Creates a list of ELMo word embeddings of each sentence\n",
        "    returns: list, list\n",
        "      The list of embeddings of words of each sentence\n",
        "    '''\n",
        "\n",
        "    embed = Embeddings(self.first_sentence, self.second_sentence)\n",
        "    embed2array = Embedding2Array()\n",
        "    first_embedding, second_embedding = embed.get_elmo_embedding()\n",
        "    first_array, second_array = embed2array.elmo(first_embedding), embed2array.elmo(second_embedding)\n",
        "    return first_array, second_array\n",
        "\n",
        "  def bert(self):\n",
        "    '''Creates a list of BERT word embeddings of each sentence\n",
        "    returns: list, list\n",
        "      The list of embeddings of words of each sentence\n",
        "    '''\n",
        "    embed = Embeddings(self.first_sentence, self.second_sentence)\n",
        "    embed2array = Embedding2Array()\n",
        "    first_embedding, second_embedding = embed.get_bert_embedding()\n",
        "    first_array, second_array = embed2array.bert(first_embedding), embed2array.bert(second_embedding)\n",
        "    return first_array, second_array\n",
        "\n",
        "  def gpt(self):\n",
        "    '''Creates a list of GPT word embeddings of each sentence\n",
        "    returns: list, list\n",
        "      The list of embeddings of words of each sentence\n",
        "    '''\n",
        "    embed = Embeddings(self.first_sentence, self.second_sentence)\n",
        "    embed2array = Embedding2Array()\n",
        "    first_embedding, second_embedding = embed.get_gpt_embedding()\n",
        "    first_array, second_array = embed2array.gpt(first_embedding), embed2array.gpt(second_embedding)\n",
        "    return first_array, second_array"
      ],
      "execution_count": 0,
      "outputs": []
    },
    {
      "cell_type": "markdown",
      "metadata": {
        "id": "cnknPCwzLJ72",
        "colab_type": "text"
      },
      "source": [
        "--------------------------------------------------------------------------------"
      ]
    },
    {
      "cell_type": "code",
      "metadata": {
        "id": "zIq2fjsO48ze",
        "colab_type": "code",
        "colab": {}
      },
      "source": [
        "class AnalyzeWordEmbeddings:\n",
        "  def __init__(self,sentence_1, sentence_2):\n",
        "    self.sentence_1 = sentence_1\n",
        "    self.sentence_2 = sentence_2\n",
        "    \n",
        "  def bert(self):\n",
        "    '''Plots similarity matrix using BERT embeddings and returns similar words in both the sentences\n",
        "    returns: dict\n",
        "      A dictionary matching the similar words from one sentence to other using BERT embeddings\n",
        "    '''    \n",
        "    main = Main(self.sentence_1, self.sentence_2)\n",
        "    array_1, array_2 = main.bert()\n",
        "    similarityfunc = SimilarityFunctions(self.sentence_1, self.sentence_2, array_1, array_2)\n",
        "    similarity_matrix = similarityfunc.cosine_similarity_matrix()\n",
        "    similarityfunc.plot_similarity_matrix('Similarity plot using BERT embeddings')\n",
        "    similarityfunc.get_similar_words()\n",
        "  \n",
        "  def elmo(self):\n",
        "    '''Plots similarity matrix using ELMo embeddings and returns similar words in both the sentences\n",
        "    returns: dict\n",
        "      A dictionary matching the similar words from one sentence to other using ELMo embeddings\n",
        "    '''      \n",
        "    main = Main(self.sentence_1, self.sentence_2)\n",
        "    array_1, array_2 = main.elmo()\n",
        "    similarityfunc = SimilarityFunctions(self.sentence_1, self.sentence_2, array_1, array_2)\n",
        "    similarity_matrix = similarityfunc.cosine_similarity_matrix()\n",
        "    similarityfunc.plot_similarity_matrix('Similarity plot using ELMo embeddings')\n",
        "    similarityfunc.get_similar_words()\n",
        "  \n",
        "  def gpt(self):\n",
        "    '''Plots similarity matrix using GPT embeddings and returns similar words in both the sentences\n",
        "    returns: dict\n",
        "      A dictionary matching the similar words from one sentence to other using GPT embeddings\n",
        "    '''    \n",
        "    main = Main(self.sentence_1, self.sentence_2)\n",
        "    array_1, array_2 = main.gpt()\n",
        "    similarityfunc = SimilarityFunctions(self.sentence_1, self.sentence_2, array_1, array_2)\n",
        "    similarity_matrix = similarityfunc.cosine_similarity_matrix()\n",
        "    similarityfunc.plot_similarity_matrix('Similarity plot using GPT embeddings')\n",
        "    similarityfunc.get_similar_words()"
      ],
      "execution_count": 0,
      "outputs": []
    },
    {
      "cell_type": "markdown",
      "metadata": {
        "id": "z3IED8nMLZAC",
        "colab_type": "text"
      },
      "source": [
        "--------------------------------------------------------------------------------"
      ]
    },
    {
      "cell_type": "code",
      "metadata": {
        "id": "FUzei4NlSsmW",
        "colab_type": "code",
        "colab": {}
      },
      "source": [
        "first_sentence_1 = \"Abstraction and reusability.\"\n",
        "second_sentence_1 = \"the main advantages to object-oriented programming  is data abstraction, easier maintenance, and re-usability.\" "
      ],
      "execution_count": 0,
      "outputs": []
    },
    {
      "cell_type": "code",
      "metadata": {
        "id": "qUXgTRN0C9SP",
        "colab_type": "code",
        "colab": {}
      },
      "source": [
        "first_sentence_2 = \"A man cuts a tomato\"\n",
        "second_sentence_2 = \"A woman cuts a potato\""
      ],
      "execution_count": 0,
      "outputs": []
    },
    {
      "cell_type": "code",
      "metadata": {
        "id": "ypC7DHBCD2Vz",
        "colab_type": "code",
        "colab": {}
      },
      "source": [
        "first_sentence_3 = \"Flowers blossom in spring.\"\n",
        "second_sentence_3 = \"Suspension works on spring mechanism.\""
      ],
      "execution_count": 0,
      "outputs": []
    },
    {
      "cell_type": "markdown",
      "metadata": {
        "id": "JUkrG9h0yiFI",
        "colab_type": "text"
      },
      "source": [
        "* Input the sentences and required functions"
      ]
    },
    {
      "cell_type": "code",
      "metadata": {
        "id": "6yEp7UYjwAqv",
        "colab_type": "code",
        "outputId": "e84e8b80-100e-4f1b-d9a4-272d88cb1396",
        "colab": {
          "base_uri": "https://localhost:8080/",
          "height": 901
        }
      },
      "source": [
        "analyze_word_embed = AnalyzeWordEmbeddings(first_sentence_2, second_sentence_2)\n",
        "analyze_word_embed.bert()\n",
        "analyze_word_embed.elmo()\n",
        "analyze_word_embed.gpt()"
      ],
      "execution_count": 60,
      "outputs": [
        {
          "output_type": "display_data",
          "data": {
            "image/png": "[encoded data removed]",
            "text/plain": [
              "<Figure size 432x288 with 2 Axes>"
            ]
          },
          "metadata": {
            "tags": []
          }
        },
        {
          "output_type": "stream",
          "text": [
            "Similar words in two sentences are : {'A': ['A', 'a'], 'man': ['woman'], 'cuts': ['cuts'], 'a': ['A', 'a'], 'tomato': ['potato']}\n"
          ],
          "name": "stdout"
        },
        {
          "output_type": "display_data",
          "data": {
            "image/png": "[encoded data removed]",
            "text/plain": [
              "<Figure size 432x288 with 2 Axes>"
            ]
          },
          "metadata": {
            "tags": []
          }
        },
        {
          "output_type": "stream",
          "text": [
            "Similar words in two sentences are : {'A': ['A'], 'man': ['woman'], 'cuts': ['cuts'], 'a': ['a'], 'tomato': ['potato']}\n"
          ],
          "name": "stdout"
        },
        {
          "output_type": "stream",
          "text": [
            "Using cache found in /root/.cache/torch/hub/huggingface_pytorch-pretrained-BERT_master\n",
            "Using cache found in /root/.cache/torch/hub/huggingface_pytorch-pretrained-BERT_master\n"
          ],
          "name": "stderr"
        },
        {
          "output_type": "display_data",
          "data": {
            "image/png": "[encoded data removed]",
            "text/plain": [
              "<Figure size 432x288 with 2 Axes>"
            ]
          },
          "metadata": {
            "tags": []
          }
        },
        {
          "output_type": "stream",
          "text": [
            "Similar words in two sentences are : {'A': ['A'], 'man': ['woman'], 'cuts': ['cuts'], 'a': ['a'], 'tomato': ['potato']}\n"
          ],
          "name": "stdout"
        }
      ]
    },
    {
      "cell_type": "markdown",
      "metadata": {
        "id": "yWTfK_7DA2Vc",
        "colab_type": "text"
      },
      "source": [
        "<b> Note:</b> \n",
        "* The lighter the map is the more similar the words are...\n",
        "*First_sentence_1 and second_sentence_1 are the sentences from \"Mohler dataset.\""
      ]
    },
    {
      "cell_type": "code",
      "metadata": {
        "id": "uGb0YiCcOUCP",
        "colab_type": "code",
        "colab": {}
      },
      "source": [
        ""
      ],
      "execution_count": 0,
      "outputs": []
    }
  ]
}