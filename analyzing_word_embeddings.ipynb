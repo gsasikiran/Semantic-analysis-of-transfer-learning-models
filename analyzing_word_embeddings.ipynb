{
  "nbformat": 4,
  "nbformat_minor": 0,
  "metadata": {
    "colab": {
      "name": "analyzing_word_embeddings.ipynb",
      "version": "0.3.2",
      "provenance": [],
      "collapsed_sections": [],
      "include_colab_link": true
    },
    "kernelspec": {
      "name": "python3",
      "display_name": "Python 3"
    },
    "accelerator": "GPU"
  },
  "cells": [
    {
      "cell_type": "markdown",
      "metadata": {
        "id": "view-in-github",
        "colab_type": "text"
      },
      "source": [
        "<a href=\"https://colab.research.google.com/github/gsasikiran/Semantic-similarity/blob/master/analyzing_word_embeddings.ipynb\" target=\"_parent\"><img src=\"https://colab.research.google.com/assets/colab-badge.svg\" alt=\"Open In Colab\"/></a>"
      ]
    },
    {
      "cell_type": "markdown",
      "metadata": {
        "id": "SlnLlc0-xsUp",
        "colab_type": "text"
      },
      "source": [
        "## Downloading the word embeddings"
      ]
    },
    {
      "cell_type": "code",
      "metadata": {
        "id": "kmd_k1O4s3t2",
        "colab_type": "code",
        "colab": {}
      },
      "source": [
        "!pip3 install bert-embedding\n",
        "!pip3 install allennlp"
      ],
      "execution_count": 0,
      "outputs": []
    },
    {
      "cell_type": "code",
      "metadata": {
        "id": "EW3JiCCF4yVz",
        "colab_type": "code",
        "colab": {}
      },
      "source": [
        "!pip3 install --upgrade numpy"
      ],
      "execution_count": 0,
      "outputs": []
    },
    {
      "cell_type": "code",
      "metadata": {
        "id": "E5kDlws-tjD6",
        "colab_type": "code",
        "outputId": "cfeabf73-8a77-4b68-906c-8c91734910dd",
        "colab": {
          "base_uri": "https://localhost:8080/",
          "height": 105
        }
      },
      "source": [
        "import scipy\n",
        "\n",
        "import numpy as np\n",
        "import nltk\n",
        "nltk.download('punkt')\n",
        "\n",
        "import tarfile\n",
        "\n",
        "from nltk.tokenize import word_tokenize\n",
        "from bert_embedding import BertEmbedding\n",
        "from allennlp.commands.elmo import ElmoEmbedder\n",
        "\n",
        "import seaborn as sns\n",
        "import matplotlib.pyplot as plt\n",
        "%matplotlib inline"
      ],
      "execution_count": 7,
      "outputs": [
        {
          "output_type": "stream",
          "text": [
            "[nltk_data] Downloading package punkt to /root/nltk_data...\n",
            "[nltk_data]   Unzipping tokenizers/punkt.zip.\n"
          ],
          "name": "stdout"
        },
        {
          "output_type": "stream",
          "text": [
            "/usr/local/lib/python3.6/dist-packages/sklearn/utils/linear_assignment_.py:21: DeprecationWarning: The linear_assignment_ module is deprecated in 0.21 and will be removed from 0.23. Use scipy.optimize.linear_sum_assignment instead.\n",
            "  DeprecationWarning)\n"
          ],
          "name": "stderr"
        }
      ]
    },
    {
      "cell_type": "markdown",
      "metadata": {
        "id": "p-UGT--Ax0Dc",
        "colab_type": "text"
      },
      "source": [
        "## Preprocessing:\n",
        "* Tokenize sentences\n",
        "* Assigning corresponding word embeddings\n",
        "* Create cosine similarity matrix based on the distances between the word embeddings."
      ]
    },
    {
      "cell_type": "code",
      "metadata": {
        "id": "xbx8W5HhTI4M",
        "colab_type": "code",
        "colab": {}
      },
      "source": [
        "class PreProcess:\n",
        "  \n",
        "  def __init__(self, first_sentence, second_sentence):\n",
        "    self.sentence_1 = first_sentence\n",
        "    self.sentence_2 = second_sentence\n",
        "    self.tokenized_sent_1 = word_tokenize(self.sentence_1)\n",
        "    self.tokenized_sent_2 = word_tokenize(self.sentence_2)\n",
        "    \n",
        "  def get_elmo_embedding(self):\n",
        "    '''Creates ELMo word embeddings for the given words\n",
        "    returns: ndarray, ndarray\n",
        "      Returns the ELMo embeddings of the tokens of two sentences'''\n",
        "    elmo = ElmoEmbedder()\n",
        "    elmo_embedding_1 = elmo.embed_sentence(self.tokenized_sent_1)\n",
        "    elmo_embedding_2 = elmo.embed_sentence(self.tokenized_sent_2)\n",
        "    return elmo_embedding_1, elmo_embedding_2\n",
        "\n",
        "#   We are creating two functions for returning word arrays, as embeddings of all models are not of similar format\n",
        "  def create_elmo_word_arrays(self, embedding):\n",
        "    ''' Creates the list of arrays of each corresponding word\n",
        "    parameters\n",
        "    embedding : ndarray\n",
        "    returns: list\n",
        "      Returns the list of elmo embedding of each word \n",
        "    '''\n",
        "    word_array = []\n",
        "    for i in range(len(embedding[0])):\n",
        "      word_array.append(embedding[0][i])\n",
        "    return word_array\n",
        "    \n",
        "  def get_bert_embedding(self):\n",
        "    '''Creates word embeddings taken from ELMo language representation\n",
        "    returns: list, list\n",
        "      Returns the BERT embeddings of the tokens of two sentences'''\n",
        "    bert_embedding_1  = BertEmbedding().embedding(sentences = self.tokenized_sent_1)\n",
        "    bert_embedding_2  = BertEmbedding().embedding(sentences = self.tokenized_sent_2)\n",
        "    return bert_embedding_1, bert_embedding_2\n",
        "    \n",
        "\n",
        "  def create_bert_word_arrays(self, embedding):\n",
        "    ''' Creates the list of arrays of each corresponding word\n",
        "    param\n",
        "    embedding: list\n",
        "    returns: list\n",
        "      Returns the list of BERT embedding of each word \n",
        "    '''\n",
        "    word_array = []\n",
        "    for i in range(len(embedding)):\n",
        "      word_array.append(embedding[i][1][0])\n",
        "    return word_array\n",
        "\n",
        "  def cosine_similarity_matrix(self, array_1, array_2):\n",
        "    '''\n",
        "    param:\n",
        "    array_1: array\n",
        "      Array of first sentence word embeddings\n",
        "    array_2: array\n",
        "      Array of second sentence word embeddings\n",
        "    returns: array\n",
        "      Similarity matrix of words in two sentences\n",
        "    '''\n",
        "    matrix = np.zeros((len(array_1), len(array_2)))\n",
        "\n",
        "    for i in range(0, len(array_1)):\n",
        "      for j in range(0, len(array_2)):\n",
        "        matrix[i][j]= scipy.spatial.distance.cosine(array_1[i], array_2[j])\n",
        "    return matrix.T       \n"
      ],
      "execution_count": 0,
      "outputs": []
    },
    {
      "cell_type": "markdown",
      "metadata": {
        "id": "mRpk1Ju0yMFk",
        "colab_type": "text"
      },
      "source": [
        " ## Processing:\n",
        " * Plotting the similarity matrix based on the cosine matrix from preprocessing class\n",
        " * Creating a list of similar words of one sentence for each word in the other sentence."
      ]
    },
    {
      "cell_type": "code",
      "metadata": {
        "id": "x9TIMQkc6J2b",
        "colab_type": "code",
        "colab": {}
      },
      "source": [
        "def plot_similarity_matrix(first_sentence, second_sentence):\n",
        "  '''Plot the similarity matrix of two sentences\n",
        "  parameters:\n",
        "    first_sentence: str\n",
        "      Input the first sentence as a string\n",
        "    second_sentence: str\n",
        "      Input the second sentence as a string\n",
        "  returns: None\n",
        "  '''\n",
        "  x_labels, y_labels = word_tokenize(first_sentence), word_tokenize(second_sentence)\n",
        "  similarity_matrix = main(first_sentence, second_sentence)\n",
        "  sns.heatmap(similarity_matrix, vmin=0, vmax=1, xticklabels=x_labels, yticklabels=y_labels, cmap=\"YlGnBu\")\n",
        "  plt.show()\n",
        "\n",
        "def get_similar_words(sentence_1, sentence_2):\n",
        "  '''Prints similar word from second sentence for each word in the first sentence\n",
        "  parameters:\n",
        "    first_sentence: str\n",
        "      Input the first sentence\n",
        "    second_sentence: str\n",
        "      Input the second sentence\n",
        "  '''\n",
        "  token_1 = word_tokenize(sentence_1)\n",
        "  token_2 = word_tokenize(sentence_2)\n",
        "  \n",
        "  similarity_matrix = main(sentence_1, sentence_2)\n",
        "  \n",
        "  print('similarity matrix is :', similarity_matrix)\n",
        "  similar_word_dict = {}\n",
        "  for row in range(0,len(similarity_matrix[0])):\n",
        "    \n",
        "    min_val = min(similarity_matrix.T[row]) #Here min value of transpose is found. To understand it print similarity matrix and find the logic\n",
        "    index = (np.where(similarity_matrix.T[row] == min_val))[0]\n",
        "    similar_word_list = []\n",
        "    \n",
        "    for i in range(0,len(index)):\n",
        "      similar_word_list.append(token_2[index[i]])\n",
        "    similar_word_dict[token_1[row]] = similar_word_list\n",
        "    \n",
        "  print('Similar words are :', similar_word_dict)"
      ],
      "execution_count": 0,
      "outputs": []
    },
    {
      "cell_type": "code",
      "metadata": {
        "id": "FUzei4NlSsmW",
        "colab_type": "code",
        "colab": {}
      },
      "source": [
        "def main(first_input, second_input):\n",
        "  preprocess = PreProcess(first_input, second_input)\n",
        "  print(\"Select the transfer learning model\")\n",
        "  num = int(input('1 : BERT model, 2 : ELMo model'))\n",
        "  if num == 1:\n",
        "    first_embedding, second_embedding = preprocess.get_bert_embedding()\n",
        "    print(\"BERT embedding\")\n",
        "    word_array_1, word_array_2 = preprocess.create_bert_word_arrays(first_embedding), preprocess.create_bert_word_arrays(second_embedding)  \n",
        "  elif num ==2:\n",
        "    first_embedding, second_embedding = preprocess.get_elmo_embedding()\n",
        "    print(\"ELMo embedding\")\n",
        "    word_array_1, word_array_2 = preprocess.create_elmo_word_arrays(first_embedding), preprocess.create_elmo_word_arrays(second_embedding)  \n",
        "\n",
        "  return preprocess.cosine_similarity_matrix(word_array_1, word_array_2)\n",
        "  \n",
        "    "
      ],
      "execution_count": 0,
      "outputs": []
    },
    {
      "cell_type": "markdown",
      "metadata": {
        "id": "JUkrG9h0yiFI",
        "colab_type": "text"
      },
      "source": [
        "* Input the sentences and required functions"
      ]
    },
    {
      "cell_type": "code",
      "metadata": {
        "id": "6xyBTxarxHaK",
        "colab_type": "code",
        "outputId": "9331d6d5-6d5b-4afb-a9ed-67284f964f33",
        "colab": {
          "base_uri": "https://localhost:8080/",
          "height": 544
        }
      },
      "source": [
        "input_1 = \"Flowers blossom in spring season\"\n",
        "input_2 = \"Suspension works on spring action\"\n",
        "get_similar_words(input_1, input_2)\n",
        "plot_similarity_matrix(input_1, input_2)"
      ],
      "execution_count": 11,
      "outputs": [
        {
          "output_type": "stream",
          "text": [
            "Select the transfer learning model\n",
            "1 : BERT model, 2 : ELMo model1\n",
            "Vocab file is not found. Downloading.\n",
            "Downloading /root/.mxnet/models/book_corpus_wiki_en_uncased-a6607397.zip from https://apache-mxnet.s3-accelerate.dualstack.amazonaws.com/gluon/dataset/vocab/book_corpus_wiki_en_uncased-a6607397.zip...\n",
            "Downloading /root/.mxnet/models/bert_12_768_12_book_corpus_wiki_en_uncased-75cc780f.zip from https://apache-mxnet.s3-accelerate.dualstack.amazonaws.com/gluon/models/bert_12_768_12_book_corpus_wiki_en_uncased-75cc780f.zip...\n",
            "BERT embedding\n",
            "similarity matrix is : [[0.55062258 0.50705758 0.55394492 0.52845278 0.62727168]\n",
            " [0.44644415 0.46746862 0.52638984 0.50875375 0.49690098]\n",
            " [0.49736363 0.23914939 0.29816723 0.42610037 0.49773574]\n",
            " [0.35717058 0.30203468 0.41909271 0.         0.43552619]\n",
            " [0.43835843 0.27199525 0.42164135 0.38960534 0.45804393]]\n",
            "Similar words are : {'Flowers': ['spring'], 'blossom': ['on'], 'in': ['on'], 'spring': ['spring'], 'season': ['spring']}\n",
            "Select the transfer learning model\n",
            "1 : BERT model, 2 : ELMo model1\n",
            "BERT embedding\n"
          ],
          "name": "stdout"
        },
        {
          "output_type": "display_data",
          "data": {
            "image/png": "[encoded data removed]",
            "text/plain": [
              "<Figure size 432x288 with 2 Axes>"
            ]
          },
          "metadata": {
            "tags": []
          }
        }
      ]
    },
    {
      "cell_type": "markdown",
      "metadata": {
        "id": "yWTfK_7DA2Vc",
        "colab_type": "text"
      },
      "source": [
        "<b> Note:</b> \n",
        "* The lighter the map is the more similar the words are...\n",
        "* Following is the question from \"Mohler dataset.\""
      ]
    }
  ]
}