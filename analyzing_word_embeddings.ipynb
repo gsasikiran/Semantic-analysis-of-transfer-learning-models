{
  "nbformat": 4,
  "nbformat_minor": 0,
  "metadata": {
    "colab": {
      "name": "analyzing_word_embeddings.ipynb",
      "version": "0.3.2",
      "provenance": [],
      "collapsed_sections": [],
      "include_colab_link": true
    },
    "kernelspec": {
      "name": "python3",
      "display_name": "Python 3"
    },
    "accelerator": "TPU"
  },
  "cells": [
    {
      "cell_type": "markdown",
      "metadata": {
        "id": "view-in-github",
        "colab_type": "text"
      },
      "source": [
        "<a href=\"https://colab.research.google.com/github/gsasikiran/Semantic-similarity/blob/master/analyzing_word_embeddings.ipynb\" target=\"_parent\"><img src=\"https://colab.research.google.com/assets/colab-badge.svg\" alt=\"Open In Colab\"/></a>"
      ]
    },
    {
      "cell_type": "markdown",
      "metadata": {
        "id": "SlnLlc0-xsUp",
        "colab_type": "text"
      },
      "source": [
        "## Downloading the word embeddings"
      ]
    },
    {
      "cell_type": "code",
      "metadata": {
        "id": "kmd_k1O4s3t2",
        "colab_type": "code",
        "outputId": "a000cc38-28cd-4cb6-a31c-8026b52c8cce",
        "colab": {
          "base_uri": "https://localhost:8080/",
          "height": 291
        }
      },
      "source": [
        "import numpy as np\n",
        "!pip3 install numpy --upgrade"
      ],
      "execution_count": 0,
      "outputs": [
        {
          "output_type": "stream",
          "text": [
            "Collecting numpy\n",
            "\u001b[?25l  Downloading https://files.pythonhosted.org/packages/19/b9/bda9781f0a74b90ebd2e046fde1196182900bd4a8e1ea503d3ffebc50e7c/numpy-1.17.0-cp36-cp36m-manylinux1_x86_64.whl (20.4MB)\n",
            "\u001b[K     |████████████████████████████████| 20.4MB 3.4MB/s \n",
            "\u001b[31mERROR: datascience 0.10.6 has requirement folium==0.2.1, but you'll have folium 0.8.3 which is incompatible.\u001b[0m\n",
            "\u001b[31mERROR: albumentations 0.1.12 has requirement imgaug<0.2.7,>=0.2.5, but you'll have imgaug 0.2.9 which is incompatible.\u001b[0m\n",
            "\u001b[?25hInstalling collected packages: numpy\n",
            "  Found existing installation: numpy 1.16.4\n",
            "    Uninstalling numpy-1.16.4:\n",
            "      Successfully uninstalled numpy-1.16.4\n",
            "Successfully installed numpy-1.17.0\n"
          ],
          "name": "stdout"
        },
        {
          "output_type": "display_data",
          "data": {
            "application/vnd.colab-display-data+json": {
              "pip_warning": {
                "packages": [
                  "numpy"
                ]
              }
            }
          },
          "metadata": {
            "tags": []
          }
        }
      ]
    },
    {
      "cell_type": "code",
      "metadata": {
        "id": "kfaLH6Lwsmzw",
        "colab_type": "code",
        "outputId": "729f357a-9c36-43ce-cfa3-3f9331f77210",
        "colab": {
          "base_uri": "https://localhost:8080/",
          "height": 1000
        }
      },
      "source": [
        "!pip3 install bert-embedding\n",
        "!pip3 install allennlp\n",
        "!pip3 install pytorch_transformers"
      ],
      "execution_count": 0,
      "outputs": [
        {
          "output_type": "stream",
          "text": [
            "Collecting bert-embedding\n",
            "  Downloading https://files.pythonhosted.org/packages/62/85/e0d56e29a055d8b3ba6da6e52afe404f209453057de95b90c01475c3ff75/bert_embedding-1.0.1-py3-none-any.whl\n",
            "Collecting numpy==1.14.6 (from bert-embedding)\n",
            "\u001b[?25l  Downloading https://files.pythonhosted.org/packages/e5/c4/395ebb218053ba44d64935b3729bc88241ec279915e72100c5979db10945/numpy-1.14.6-cp36-cp36m-manylinux1_x86_64.whl (13.8MB)\n",
            "\u001b[K     |████████████████████████████████| 13.8MB 5.2MB/s \n",
            "\u001b[?25hCollecting mxnet==1.4.0 (from bert-embedding)\n",
            "\u001b[?25l  Downloading https://files.pythonhosted.org/packages/c0/e9/241aadccc4522f99adee5b6043f730d58adb7c001e0a68865a3728c3b4ae/mxnet-1.4.0-py2.py3-none-manylinux1_x86_64.whl (29.6MB)\n",
            "\u001b[K     |████████████████████████████████| 29.6MB 1.4MB/s \n",
            "\u001b[?25hCollecting gluonnlp==0.6.0 (from bert-embedding)\n",
            "\u001b[?25l  Downloading https://files.pythonhosted.org/packages/e2/07/037585c23bccec19ce333b402997d98b09e43cc8d2d86dc810d57249c5ff/gluonnlp-0.6.0.tar.gz (209kB)\n",
            "\u001b[K     |████████████████████████████████| 215kB 46.7MB/s \n",
            "\u001b[?25hCollecting typing==3.6.6 (from bert-embedding)\n",
            "  Downloading https://files.pythonhosted.org/packages/4a/bd/eee1157fc2d8514970b345d69cb9975dcd1e42cd7e61146ed841f6e68309/typing-3.6.6-py3-none-any.whl\n",
            "Collecting graphviz<0.9.0,>=0.8.1 (from mxnet==1.4.0->bert-embedding)\n",
            "  Downloading https://files.pythonhosted.org/packages/53/39/4ab213673844e0c004bed8a0781a0721a3f6bb23eb8854ee75c236428892/graphviz-0.8.4-py2.py3-none-any.whl\n",
            "Requirement already satisfied: requests>=2.20.0 in /usr/local/lib/python3.6/dist-packages (from mxnet==1.4.0->bert-embedding) (2.21.0)\n",
            "Requirement already satisfied: chardet<3.1.0,>=3.0.2 in /usr/local/lib/python3.6/dist-packages (from requests>=2.20.0->mxnet==1.4.0->bert-embedding) (3.0.4)\n",
            "Requirement already satisfied: idna<2.9,>=2.5 in /usr/local/lib/python3.6/dist-packages (from requests>=2.20.0->mxnet==1.4.0->bert-embedding) (2.8)\n",
            "Requirement already satisfied: certifi>=2017.4.17 in /usr/local/lib/python3.6/dist-packages (from requests>=2.20.0->mxnet==1.4.0->bert-embedding) (2019.6.16)\n",
            "Requirement already satisfied: urllib3<1.25,>=1.21.1 in /usr/local/lib/python3.6/dist-packages (from requests>=2.20.0->mxnet==1.4.0->bert-embedding) (1.24.3)\n",
            "Building wheels for collected packages: gluonnlp\n",
            "  Building wheel for gluonnlp (setup.py) ... \u001b[?25l\u001b[?25hdone\n",
            "  Created wheel for gluonnlp: filename=gluonnlp-0.6.0-cp36-none-any.whl size=259917 sha256=2777ff9dd118b975c2df7fac9fc3e16ab26b676939f7627b187018719865de80\n",
            "  Stored in directory: /root/.cache/pip/wheels/ff/48/ac/a77c79aa416ba6dd7bf487f2280b0471034f66141617965914\n",
            "Successfully built gluonnlp\n",
            "\u001b[31mERROR: spacy 2.1.8 has requirement numpy>=1.15.0, but you'll have numpy 1.14.6 which is incompatible.\u001b[0m\n",
            "\u001b[31mERROR: imgaug 0.2.9 has requirement numpy>=1.15.0, but you'll have numpy 1.14.6 which is incompatible.\u001b[0m\n",
            "\u001b[31mERROR: fastai 1.0.57 has requirement numpy>=1.15, but you'll have numpy 1.14.6 which is incompatible.\u001b[0m\n",
            "\u001b[31mERROR: datascience 0.10.6 has requirement folium==0.2.1, but you'll have folium 0.8.3 which is incompatible.\u001b[0m\n",
            "\u001b[31mERROR: cvxpy 1.0.24 has requirement numpy>=1.15, but you'll have numpy 1.14.6 which is incompatible.\u001b[0m\n",
            "\u001b[31mERROR: blis 0.2.4 has requirement numpy>=1.15.0, but you'll have numpy 1.14.6 which is incompatible.\u001b[0m\n",
            "\u001b[31mERROR: albumentations 0.1.12 has requirement imgaug<0.2.7,>=0.2.5, but you'll have imgaug 0.2.9 which is incompatible.\u001b[0m\n",
            "Installing collected packages: numpy, graphviz, mxnet, gluonnlp, typing, bert-embedding\n",
            "  Found existing installation: numpy 1.17.0\n",
            "    Uninstalling numpy-1.17.0:\n",
            "      Successfully uninstalled numpy-1.17.0\n",
            "  Found existing installation: graphviz 0.10.1\n",
            "    Uninstalling graphviz-0.10.1:\n",
            "      Successfully uninstalled graphviz-0.10.1\n",
            "  Found existing installation: typing 3.7.4\n",
            "    Uninstalling typing-3.7.4:\n",
            "      Successfully uninstalled typing-3.7.4\n",
            "Successfully installed bert-embedding-1.0.1 gluonnlp-0.6.0 graphviz-0.8.4 mxnet-1.4.0 numpy-1.14.6 typing-3.6.6\n"
          ],
          "name": "stdout"
        },
        {
          "output_type": "display_data",
          "data": {
            "application/vnd.colab-display-data+json": {
              "pip_warning": {
                "packages": [
                  "numpy",
                  "typing"
                ]
              }
            }
          },
          "metadata": {
            "tags": []
          }
        },
        {
          "output_type": "stream",
          "text": [
            "Collecting allennlp\n",
            "\u001b[?25l  Downloading https://files.pythonhosted.org/packages/30/8c/72b14d20c9cbb0306939ea41109fc599302634fd5c59ccba1a659b7d0360/allennlp-0.8.4-py3-none-any.whl (5.7MB)\n",
            "\u001b[K     |████████████████████████████████| 5.7MB 3.5MB/s \n",
            "\u001b[?25hCollecting pytorch-pretrained-bert>=0.6.0 (from allennlp)\n",
            "\u001b[?25l  Downloading https://files.pythonhosted.org/packages/d7/e0/c08d5553b89973d9a240605b9c12404bcf8227590de62bae27acbcfe076b/pytorch_pretrained_bert-0.6.2-py3-none-any.whl (123kB)\n",
            "\u001b[K     |████████████████████████████████| 133kB 43.3MB/s \n",
            "\u001b[?25hRequirement already satisfied: boto3 in /usr/local/lib/python3.6/dist-packages (from allennlp) (1.9.205)\n",
            "Requirement already satisfied: sqlparse>=0.2.4 in /usr/local/lib/python3.6/dist-packages (from allennlp) (0.3.0)\n",
            "Collecting awscli>=1.11.91 (from allennlp)\n",
            "\u001b[?25l  Downloading https://files.pythonhosted.org/packages/2a/e1/4dd677b7e92577d9b3a1427bf6b619d6bc98156196e24564a85fbe74c344/awscli-1.16.221-py2.py3-none-any.whl (1.9MB)\n",
            "\u001b[K     |████████████████████████████████| 1.9MB 31.8MB/s \n",
            "\u001b[?25hCollecting unidecode (from allennlp)\n",
            "\u001b[?25l  Downloading https://files.pythonhosted.org/packages/d0/42/d9edfed04228bacea2d824904cae367ee9efd05e6cce7ceaaedd0b0ad964/Unidecode-1.1.1-py2.py3-none-any.whl (238kB)\n",
            "\u001b[K     |████████████████████████████████| 245kB 48.2MB/s \n",
            "\u001b[?25hCollecting ftfy (from allennlp)\n",
            "\u001b[?25l  Downloading https://files.pythonhosted.org/packages/75/ca/2d9a5030eaf1bcd925dab392762b9709a7ad4bd486a90599d93cd79cb188/ftfy-5.6.tar.gz (58kB)\n",
            "\u001b[K     |████████████████████████████████| 61kB 24.9MB/s \n",
            "\u001b[?25hRequirement already satisfied: h5py in /usr/local/lib/python3.6/dist-packages (from allennlp) (2.8.0)\n",
            "Requirement already satisfied: gevent>=1.3.6 in /usr/local/lib/python3.6/dist-packages (from allennlp) (1.4.0)\n",
            "Collecting responses>=0.7 (from allennlp)\n",
            "  Downloading https://files.pythonhosted.org/packages/d1/5a/b887e89925f1de7890ef298a74438371ed4ed29b33def9e6d02dc6036fd8/responses-0.10.6-py2.py3-none-any.whl\n",
            "Collecting parsimonious>=0.8.0 (from allennlp)\n",
            "\u001b[?25l  Downloading https://files.pythonhosted.org/packages/02/fc/067a3f89869a41009e1a7cdfb14725f8ddd246f30f63c645e8ef8a1c56f4/parsimonious-0.8.1.tar.gz (45kB)\n",
            "\u001b[K     |████████████████████████████████| 51kB 20.5MB/s \n",
            "\u001b[?25hCollecting jsonpickle (from allennlp)\n",
            "  Downloading https://files.pythonhosted.org/packages/07/07/c157520a3ebd166c8c24c6ae0ecae7c3968eb4653ff0e5af369bb82f004d/jsonpickle-1.2-py2.py3-none-any.whl\n",
            "Requirement already satisfied: torch>=0.4.1 in /usr/local/lib/python3.6/dist-packages (from allennlp) (1.1.0)\n",
            "Requirement already satisfied: scikit-learn in /usr/local/lib/python3.6/dist-packages (from allennlp) (0.21.3)\n",
            "Requirement already satisfied: spacy<2.2,>=2.0.18 in /usr/local/lib/python3.6/dist-packages (from allennlp) (2.1.8)\n",
            "Requirement already satisfied: pytz>=2017.3 in /usr/local/lib/python3.6/dist-packages (from allennlp) (2018.9)\n",
            "Collecting conllu==0.11 (from allennlp)\n",
            "  Downloading https://files.pythonhosted.org/packages/d4/2c/856344d9b69baf5b374c395b4286626181a80f0c2b2f704914d18a1cea47/conllu-0.11-py2.py3-none-any.whl\n",
            "Requirement already satisfied: flask>=1.0.2 in /usr/local/lib/python3.6/dist-packages (from allennlp) (1.1.1)\n",
            "Requirement already satisfied: nltk in /usr/local/lib/python3.6/dist-packages (from allennlp) (3.2.5)\n",
            "Collecting flask-cors>=3.0.7 (from allennlp)\n",
            "  Downloading https://files.pythonhosted.org/packages/78/38/e68b11daa5d613e3a91e4bf3da76c94ac9ee0d9cd515af9c1ab80d36f709/Flask_Cors-3.0.8-py2.py3-none-any.whl\n",
            "Requirement already satisfied: requests>=2.18 in /usr/local/lib/python3.6/dist-packages (from allennlp) (2.21.0)\n",
            "Collecting overrides (from allennlp)\n",
            "  Downloading https://files.pythonhosted.org/packages/de/55/3100c6d14c1ed177492fcf8f07c4a7d2d6c996c0a7fc6a9a0a41308e7eec/overrides-1.9.tar.gz\n",
            "Collecting tensorboardX>=1.2 (from allennlp)\n",
            "\u001b[?25l  Downloading https://files.pythonhosted.org/packages/c3/12/dcaf67e1312475b26db9e45e7bb6f32b540671a9ee120b3a72d9e09bc517/tensorboardX-1.8-py2.py3-none-any.whl (216kB)\n",
            "\u001b[K     |████████████████████████████████| 225kB 42.8MB/s \n",
            "\u001b[?25hRequirement already satisfied: pytest in /usr/local/lib/python3.6/dist-packages (from allennlp) (3.6.4)\n",
            "Requirement already satisfied: scipy in /usr/local/lib/python3.6/dist-packages (from allennlp) (1.3.1)\n",
            "Collecting numpydoc>=0.8.0 (from allennlp)\n",
            "  Downloading https://files.pythonhosted.org/packages/6a/f3/7cfe4c616e4b9fe05540256cc9c6661c052c8a4cec2915732793b36e1843/numpydoc-0.9.1.tar.gz\n",
            "Collecting flaky (from allennlp)\n",
            "  Downloading https://files.pythonhosted.org/packages/fe/12/0f169abf1aa07c7edef4855cca53703d2e6b7ecbded7829588ac7e7e3424/flaky-3.6.1-py2.py3-none-any.whl\n",
            "Collecting jsonnet>=0.10.0; sys_platform != \"win32\" (from allennlp)\n",
            "\u001b[?25l  Downloading https://files.pythonhosted.org/packages/a9/a8/adba6cd0f84ee6ab064e7f70cd03a2836cefd2e063fd565180ec13beae93/jsonnet-0.13.0.tar.gz (255kB)\n",
            "\u001b[K     |████████████████████████████████| 256kB 43.4MB/s \n",
            "\u001b[?25hRequirement already satisfied: editdistance in /usr/local/lib/python3.6/dist-packages (from allennlp) (0.5.3)\n",
            "Requirement already satisfied: tqdm>=4.19 in /usr/local/lib/python3.6/dist-packages (from allennlp) (4.28.1)\n",
            "Requirement already satisfied: matplotlib>=2.2.3 in /usr/local/lib/python3.6/dist-packages (from allennlp) (3.0.3)\n",
            "Requirement already satisfied: numpy in /usr/local/lib/python3.6/dist-packages (from allennlp) (1.14.6)\n",
            "Collecting word2number>=1.1 (from allennlp)\n",
            "  Downloading https://files.pythonhosted.org/packages/4a/29/a31940c848521f0725f0df6b25dca8917f13a2025b0e8fcbe5d0457e45e6/word2number-1.1.zip\n",
            "Collecting regex (from pytorch-pretrained-bert>=0.6.0->allennlp)\n",
            "\u001b[?25l  Downloading https://files.pythonhosted.org/packages/6f/a6/99eeb5904ab763db87af4bd71d9b1dfdd9792681240657a4c0a599c10a81/regex-2019.08.19.tar.gz (654kB)\n",
            "\u001b[K     |████████████████████████████████| 655kB 45.2MB/s \n",
            "\u001b[?25hRequirement already satisfied: s3transfer<0.3.0,>=0.2.0 in /usr/local/lib/python3.6/dist-packages (from boto3->allennlp) (0.2.1)\n",
            "Requirement already satisfied: jmespath<1.0.0,>=0.7.1 in /usr/local/lib/python3.6/dist-packages (from boto3->allennlp) (0.9.4)\n",
            "Requirement already satisfied: botocore<1.13.0,>=1.12.205 in /usr/local/lib/python3.6/dist-packages (from boto3->allennlp) (1.12.205)\n",
            "Requirement already satisfied: docutils<0.16,>=0.10 in /usr/local/lib/python3.6/dist-packages (from awscli>=1.11.91->allennlp) (0.14)\n",
            "Requirement already satisfied: PyYAML<=5.2,>=3.10; python_version != \"2.6\" in /usr/local/lib/python3.6/dist-packages (from awscli>=1.11.91->allennlp) (3.13)\n",
            "Collecting colorama<=0.3.9,>=0.2.5 (from awscli>=1.11.91->allennlp)\n",
            "  Downloading https://files.pythonhosted.org/packages/db/c8/7dcf9dbcb22429512708fe3a547f8b6101c0d02137acbd892505aee57adf/colorama-0.3.9-py2.py3-none-any.whl\n",
            "Collecting rsa<=3.5.0,>=3.1.2 (from awscli>=1.11.91->allennlp)\n",
            "\u001b[?25l  Downloading https://files.pythonhosted.org/packages/e1/ae/baedc9cb175552e95f3395c43055a6a5e125ae4d48a1d7a924baca83e92e/rsa-3.4.2-py2.py3-none-any.whl (46kB)\n",
            "\u001b[K     |████████████████████████████████| 51kB 20.9MB/s \n",
            "\u001b[?25hRequirement already satisfied: wcwidth in /usr/local/lib/python3.6/dist-packages (from ftfy->allennlp) (0.1.7)\n",
            "Requirement already satisfied: six in /usr/local/lib/python3.6/dist-packages (from h5py->allennlp) (1.12.0)\n",
            "Requirement already satisfied: greenlet>=0.4.14; platform_python_implementation == \"CPython\" in /usr/local/lib/python3.6/dist-packages (from gevent>=1.3.6->allennlp) (0.4.15)\n",
            "Requirement already satisfied: joblib>=0.11 in /usr/local/lib/python3.6/dist-packages (from scikit-learn->allennlp) (0.13.2)\n",
            "Requirement already satisfied: blis<0.3.0,>=0.2.2 in /usr/local/lib/python3.6/dist-packages (from spacy<2.2,>=2.0.18->allennlp) (0.2.4)\n",
            "Requirement already satisfied: thinc<7.1.0,>=7.0.8 in /usr/local/lib/python3.6/dist-packages (from spacy<2.2,>=2.0.18->allennlp) (7.0.8)\n",
            "Requirement already satisfied: plac<1.0.0,>=0.9.6 in /usr/local/lib/python3.6/dist-packages (from spacy<2.2,>=2.0.18->allennlp) (0.9.6)\n",
            "Requirement already satisfied: murmurhash<1.1.0,>=0.28.0 in /usr/local/lib/python3.6/dist-packages (from spacy<2.2,>=2.0.18->allennlp) (1.0.2)\n",
            "Requirement already satisfied: srsly<1.1.0,>=0.0.6 in /usr/local/lib/python3.6/dist-packages (from spacy<2.2,>=2.0.18->allennlp) (0.0.7)\n",
            "Requirement already satisfied: preshed<2.1.0,>=2.0.1 in /usr/local/lib/python3.6/dist-packages (from spacy<2.2,>=2.0.18->allennlp) (2.0.1)\n",
            "Requirement already satisfied: cymem<2.1.0,>=2.0.2 in /usr/local/lib/python3.6/dist-packages (from spacy<2.2,>=2.0.18->allennlp) (2.0.2)\n",
            "Requirement already satisfied: wasabi<1.1.0,>=0.2.0 in /usr/local/lib/python3.6/dist-packages (from spacy<2.2,>=2.0.18->allennlp) (0.2.2)\n",
            "Requirement already satisfied: itsdangerous>=0.24 in /usr/local/lib/python3.6/dist-packages (from flask>=1.0.2->allennlp) (1.1.0)\n",
            "Requirement already satisfied: Jinja2>=2.10.1 in /usr/local/lib/python3.6/dist-packages (from flask>=1.0.2->allennlp) (2.10.1)\n",
            "Requirement already satisfied: click>=5.1 in /usr/local/lib/python3.6/dist-packages (from flask>=1.0.2->allennlp) (7.0)\n",
            "Requirement already satisfied: Werkzeug>=0.15 in /usr/local/lib/python3.6/dist-packages (from flask>=1.0.2->allennlp) (0.15.5)\n",
            "Requirement already satisfied: chardet<3.1.0,>=3.0.2 in /usr/local/lib/python3.6/dist-packages (from requests>=2.18->allennlp) (3.0.4)\n",
            "Requirement already satisfied: urllib3<1.25,>=1.21.1 in /usr/local/lib/python3.6/dist-packages (from requests>=2.18->allennlp) (1.24.3)\n",
            "Requirement already satisfied: idna<2.9,>=2.5 in /usr/local/lib/python3.6/dist-packages (from requests>=2.18->allennlp) (2.8)\n",
            "Requirement already satisfied: certifi>=2017.4.17 in /usr/local/lib/python3.6/dist-packages (from requests>=2.18->allennlp) (2019.6.16)\n",
            "Requirement already satisfied: protobuf>=3.2.0 in /usr/local/lib/python3.6/dist-packages (from tensorboardX>=1.2->allennlp) (3.7.1)\n",
            "Requirement already satisfied: more-itertools>=4.0.0 in /usr/local/lib/python3.6/dist-packages (from pytest->allennlp) (7.2.0)\n",
            "Requirement already satisfied: py>=1.5.0 in /usr/local/lib/python3.6/dist-packages (from pytest->allennlp) (1.8.0)\n",
            "Requirement already satisfied: pluggy<0.8,>=0.5 in /usr/local/lib/python3.6/dist-packages (from pytest->allennlp) (0.7.1)\n",
            "Requirement already satisfied: setuptools in /usr/local/lib/python3.6/dist-packages (from pytest->allennlp) (41.0.1)\n",
            "Requirement already satisfied: attrs>=17.4.0 in /usr/local/lib/python3.6/dist-packages (from pytest->allennlp) (19.1.0)\n",
            "Requirement already satisfied: atomicwrites>=1.0 in /usr/local/lib/python3.6/dist-packages (from pytest->allennlp) (1.3.0)\n",
            "Requirement already satisfied: sphinx>=1.6.5 in /usr/local/lib/python3.6/dist-packages (from numpydoc>=0.8.0->allennlp) (1.8.5)\n",
            "Requirement already satisfied: pyparsing!=2.0.4,!=2.1.2,!=2.1.6,>=2.0.1 in /usr/local/lib/python3.6/dist-packages (from matplotlib>=2.2.3->allennlp) (2.4.2)\n",
            "Requirement already satisfied: kiwisolver>=1.0.1 in /usr/local/lib/python3.6/dist-packages (from matplotlib>=2.2.3->allennlp) (1.1.0)\n",
            "Requirement already satisfied: python-dateutil>=2.1 in /usr/local/lib/python3.6/dist-packages (from matplotlib>=2.2.3->allennlp) (2.5.3)\n",
            "Requirement already satisfied: cycler>=0.10 in /usr/local/lib/python3.6/dist-packages (from matplotlib>=2.2.3->allennlp) (0.10.0)\n",
            "Requirement already satisfied: pyasn1>=0.1.3 in /usr/local/lib/python3.6/dist-packages (from rsa<=3.5.0,>=3.1.2->awscli>=1.11.91->allennlp) (0.4.6)\n",
            "Requirement already satisfied: MarkupSafe>=0.23 in /usr/local/lib/python3.6/dist-packages (from Jinja2>=2.10.1->flask>=1.0.2->allennlp) (1.1.1)\n",
            "Requirement already satisfied: sphinxcontrib-websupport in /usr/local/lib/python3.6/dist-packages (from sphinx>=1.6.5->numpydoc>=0.8.0->allennlp) (1.1.2)\n",
            "Requirement already satisfied: alabaster<0.8,>=0.7 in /usr/local/lib/python3.6/dist-packages (from sphinx>=1.6.5->numpydoc>=0.8.0->allennlp) (0.7.12)\n",
            "Requirement already satisfied: babel!=2.0,>=1.3 in /usr/local/lib/python3.6/dist-packages (from sphinx>=1.6.5->numpydoc>=0.8.0->allennlp) (2.7.0)\n",
            "Requirement already satisfied: packaging in /usr/local/lib/python3.6/dist-packages (from sphinx>=1.6.5->numpydoc>=0.8.0->allennlp) (19.1)\n",
            "Requirement already satisfied: snowballstemmer>=1.1 in /usr/local/lib/python3.6/dist-packages (from sphinx>=1.6.5->numpydoc>=0.8.0->allennlp) (1.9.0)\n",
            "Requirement already satisfied: Pygments>=2.0 in /usr/local/lib/python3.6/dist-packages (from sphinx>=1.6.5->numpydoc>=0.8.0->allennlp) (2.1.3)\n",
            "Requirement already satisfied: imagesize in /usr/local/lib/python3.6/dist-packages (from sphinx>=1.6.5->numpydoc>=0.8.0->allennlp) (1.1.0)\n",
            "Building wheels for collected packages: ftfy, parsimonious, overrides, numpydoc, jsonnet, word2number, regex\n",
            "  Building wheel for ftfy (setup.py) ... \u001b[?25l\u001b[?25hdone\n",
            "  Created wheel for ftfy: filename=ftfy-5.6-cp36-none-any.whl size=44554 sha256=0a174ab6440cd3311ab3f22900be7d40023763c5184ef7ae9795663603d0e79e\n",
            "  Stored in directory: /root/.cache/pip/wheels/43/34/ce/cbb38d71543c408de56f3c5e26ce8ba495a0fa5a28eaaf1046\n",
            "  Building wheel for parsimonious (setup.py) ... \u001b[?25l\u001b[?25hdone\n",
            "  Created wheel for parsimonious: filename=parsimonious-0.8.1-cp36-none-any.whl size=42710 sha256=120819584d0c510ff7dbed3c7cc5761574c1d99dd6236ad8c03812887bccb665\n",
            "  Stored in directory: /root/.cache/pip/wheels/b7/8d/e7/a0e74217da5caeb3c1c7689639b6d28ddbf9985b840bc96a9a\n",
            "  Building wheel for overrides (setup.py) ... \u001b[?25l\u001b[?25hdone\n",
            "  Created wheel for overrides: filename=overrides-1.9-cp36-none-any.whl size=4213 sha256=016eb7f0dab461f70d2b32dd1426414d478d985629374e8080c55600aef501fd\n",
            "  Stored in directory: /root/.cache/pip/wheels/8d/52/86/e5a83b1797e7d263b458d2334edd2704c78508b3eea9323718\n",
            "  Building wheel for numpydoc (setup.py) ... \u001b[?25l\u001b[?25hdone\n",
            "  Created wheel for numpydoc: filename=numpydoc-0.9.1-cp36-none-any.whl size=31873 sha256=ec73f2549acbdc0a677b7cc1ed758f0e9d3d69943132722402c796ce9ec7ff02\n",
            "  Stored in directory: /root/.cache/pip/wheels/51/30/d1/92a39ba40f21cb70e53f8af96eb98f002a781843c065406500\n",
            "  Building wheel for jsonnet (setup.py) ... \u001b[?25l\u001b[?25hdone\n",
            "  Created wheel for jsonnet: filename=jsonnet-0.13.0-cp36-cp36m-linux_x86_64.whl size=3320368 sha256=228fd2798ce7771b16f9ce4701c3a49dcf61239a055c6969ac33fa9de1ae2567\n",
            "  Stored in directory: /root/.cache/pip/wheels/1a/30/ab/ae4a57b1df44fa20a531edb9601b27603da8f5336225691f3f\n",
            "  Building wheel for word2number (setup.py) ... \u001b[?25l\u001b[?25hdone\n",
            "  Created wheel for word2number: filename=word2number-1.1-cp36-none-any.whl size=5587 sha256=fffcf0c25584639d40b2c4830579802a8431e6b17f9a1858363903f55ed546c4\n",
            "  Stored in directory: /root/.cache/pip/wheels/46/2f/53/5f5c1d275492f2fce1cdab9a9bb12d49286dead829a4078e0e\n",
            "  Building wheel for regex (setup.py) ... \u001b[?25l\u001b[?25hdone\n",
            "  Created wheel for regex: filename=regex-2019.8.19-cp36-cp36m-linux_x86_64.whl size=609230 sha256=f71a3b49bcd8d3c196184d46c3c04b458dd57c4e681bfc2cbd5f239271629547\n",
            "  Stored in directory: /root/.cache/pip/wheels/90/04/07/b5010fb816721eb3d6dd64ed5cc8111ca23f97fdab8619b5be\n",
            "Successfully built ftfy parsimonious overrides numpydoc jsonnet word2number regex\n",
            "\u001b[31mERROR: awscli 1.16.221 has requirement botocore==1.12.211, but you'll have botocore 1.12.205 which is incompatible.\u001b[0m\n",
            "Installing collected packages: regex, pytorch-pretrained-bert, colorama, rsa, awscli, unidecode, ftfy, responses, parsimonious, jsonpickle, conllu, flask-cors, overrides, tensorboardX, numpydoc, flaky, jsonnet, word2number, allennlp\n",
            "  Found existing installation: rsa 4.0\n",
            "    Uninstalling rsa-4.0:\n",
            "      Successfully uninstalled rsa-4.0\n",
            "Successfully installed allennlp-0.8.4 awscli-1.16.221 colorama-0.3.9 conllu-0.11 flaky-3.6.1 flask-cors-3.0.8 ftfy-5.6 jsonnet-0.13.0 jsonpickle-1.2 numpydoc-0.9.1 overrides-1.9 parsimonious-0.8.1 pytorch-pretrained-bert-0.6.2 regex-2019.8.19 responses-0.10.6 rsa-3.4.2 tensorboardX-1.8 unidecode-1.1.1 word2number-1.1\n"
          ],
          "name": "stdout"
        },
        {
          "output_type": "display_data",
          "data": {
            "application/vnd.colab-display-data+json": {
              "pip_warning": {
                "packages": [
                  "rsa"
                ]
              }
            }
          },
          "metadata": {
            "tags": []
          }
        },
        {
          "output_type": "stream",
          "text": [
            "Collecting pytorch_transformers\n",
            "\u001b[?25l  Downloading https://files.pythonhosted.org/packages/50/89/ad0d6bb932d0a51793eaabcf1617a36ff530dc9ab9e38f765a35dc293306/pytorch_transformers-1.1.0-py3-none-any.whl (158kB)\n",
            "\u001b[K     |████████████████████████████████| 163kB 3.5MB/s \n",
            "\u001b[?25hRequirement already satisfied: torch>=1.0.0 in /usr/local/lib/python3.6/dist-packages (from pytorch_transformers) (1.1.0)\n",
            "Requirement already satisfied: boto3 in /usr/local/lib/python3.6/dist-packages (from pytorch_transformers) (1.9.205)\n",
            "Requirement already satisfied: regex in /usr/local/lib/python3.6/dist-packages (from pytorch_transformers) (2019.8.19)\n",
            "Collecting sentencepiece (from pytorch_transformers)\n",
            "\u001b[?25l  Downloading https://files.pythonhosted.org/packages/14/3d/efb655a670b98f62ec32d66954e1109f403db4d937c50d779a75b9763a29/sentencepiece-0.1.83-cp36-cp36m-manylinux1_x86_64.whl (1.0MB)\n",
            "\u001b[K     |████████████████████████████████| 1.0MB 46.1MB/s \n",
            "\u001b[?25hRequirement already satisfied: tqdm in /usr/local/lib/python3.6/dist-packages (from pytorch_transformers) (4.28.1)\n",
            "Requirement already satisfied: requests in /usr/local/lib/python3.6/dist-packages (from pytorch_transformers) (2.21.0)\n",
            "Requirement already satisfied: numpy in /usr/local/lib/python3.6/dist-packages (from pytorch_transformers) (1.14.6)\n",
            "Requirement already satisfied: s3transfer<0.3.0,>=0.2.0 in /usr/local/lib/python3.6/dist-packages (from boto3->pytorch_transformers) (0.2.1)\n",
            "Requirement already satisfied: jmespath<1.0.0,>=0.7.1 in /usr/local/lib/python3.6/dist-packages (from boto3->pytorch_transformers) (0.9.4)\n",
            "Requirement already satisfied: botocore<1.13.0,>=1.12.205 in /usr/local/lib/python3.6/dist-packages (from boto3->pytorch_transformers) (1.12.205)\n",
            "Requirement already satisfied: chardet<3.1.0,>=3.0.2 in /usr/local/lib/python3.6/dist-packages (from requests->pytorch_transformers) (3.0.4)\n",
            "Requirement already satisfied: certifi>=2017.4.17 in /usr/local/lib/python3.6/dist-packages (from requests->pytorch_transformers) (2019.6.16)\n",
            "Requirement already satisfied: urllib3<1.25,>=1.21.1 in /usr/local/lib/python3.6/dist-packages (from requests->pytorch_transformers) (1.24.3)\n",
            "Requirement already satisfied: idna<2.9,>=2.5 in /usr/local/lib/python3.6/dist-packages (from requests->pytorch_transformers) (2.8)\n",
            "Requirement already satisfied: docutils<0.15,>=0.10 in /usr/local/lib/python3.6/dist-packages (from botocore<1.13.0,>=1.12.205->boto3->pytorch_transformers) (0.14)\n",
            "Requirement already satisfied: python-dateutil<3.0.0,>=2.1; python_version >= \"2.7\" in /usr/local/lib/python3.6/dist-packages (from botocore<1.13.0,>=1.12.205->boto3->pytorch_transformers) (2.5.3)\n",
            "Requirement already satisfied: six>=1.5 in /usr/local/lib/python3.6/dist-packages (from python-dateutil<3.0.0,>=2.1; python_version >= \"2.7\"->botocore<1.13.0,>=1.12.205->boto3->pytorch_transformers) (1.12.0)\n",
            "Installing collected packages: sentencepiece, pytorch-transformers\n",
            "Successfully installed pytorch-transformers-1.1.0 sentencepiece-0.1.83\n"
          ],
          "name": "stdout"
        }
      ]
    },
    {
      "cell_type": "code",
      "metadata": {
        "id": "E5kDlws-tjD6",
        "colab_type": "code",
        "outputId": "072b34f1-f7d9-4e22-c3a5-f047cc261fe1",
        "colab": {
          "base_uri": "https://localhost:8080/",
          "height": 403
        }
      },
      "source": [
        "!pip install --upgrade numpy\n",
        "import scipy\n",
        "\n",
        "import nltk\n",
        "nltk.download('punkt')\n",
        "\n",
        "import tarfile\n",
        "\n",
        "from nltk.tokenize import word_tokenize\n",
        "from bert_embedding import BertEmbedding\n",
        "from allennlp.commands.elmo import ElmoEmbedder\n",
        "\n",
        "import torch\n",
        "from pytorch_transformers import *\n",
        "\n",
        "import seaborn as sns\n",
        "import matplotlib.pyplot as plt\n",
        "%matplotlib inline"
      ],
      "execution_count": 0,
      "outputs": [
        {
          "output_type": "stream",
          "text": [
            "Collecting numpy\n",
            "  Using cached https://files.pythonhosted.org/packages/19/b9/bda9781f0a74b90ebd2e046fde1196182900bd4a8e1ea503d3ffebc50e7c/numpy-1.17.0-cp36-cp36m-manylinux1_x86_64.whl\n",
            "\u001b[31mERROR: mxnet 1.4.0 has requirement numpy<1.15.0,>=1.8.2, but you'll have numpy 1.17.0 which is incompatible.\u001b[0m\n",
            "\u001b[31mERROR: datascience 0.10.6 has requirement folium==0.2.1, but you'll have folium 0.8.3 which is incompatible.\u001b[0m\n",
            "\u001b[31mERROR: bert-embedding 1.0.1 has requirement numpy==1.14.6, but you'll have numpy 1.17.0 which is incompatible.\u001b[0m\n",
            "\u001b[31mERROR: albumentations 0.1.12 has requirement imgaug<0.2.7,>=0.2.5, but you'll have imgaug 0.2.9 which is incompatible.\u001b[0m\n",
            "Installing collected packages: numpy\n",
            "  Found existing installation: numpy 1.14.6\n",
            "    Uninstalling numpy-1.14.6:\n",
            "      Successfully uninstalled numpy-1.14.6\n",
            "Successfully installed numpy-1.17.0\n"
          ],
          "name": "stdout"
        },
        {
          "output_type": "display_data",
          "data": {
            "application/vnd.colab-display-data+json": {
              "pip_warning": {
                "packages": [
                  "numpy"
                ]
              }
            }
          },
          "metadata": {
            "tags": []
          }
        },
        {
          "output_type": "stream",
          "text": [
            "[nltk_data] Downloading package punkt to /root/nltk_data...\n",
            "[nltk_data]   Unzipping tokenizers/punkt.zip.\n"
          ],
          "name": "stdout"
        },
        {
          "output_type": "stream",
          "text": [
            "/usr/local/lib/python3.6/dist-packages/sklearn/utils/linear_assignment_.py:21: DeprecationWarning: The linear_assignment_ module is deprecated in 0.21 and will be removed from 0.23. Use scipy.optimize.linear_sum_assignment instead.\n",
            "  DeprecationWarning)\n"
          ],
          "name": "stderr"
        }
      ]
    },
    {
      "cell_type": "markdown",
      "metadata": {
        "id": "p-UGT--Ax0Dc",
        "colab_type": "text"
      },
      "source": [
        "## Preprocessing:\n",
        "* Tokenize sentences\n",
        "* Assigning corresponding word embeddings\n",
        "* Create cosine similarity matrix based on the distances between the word embeddings."
      ]
    },
    {
      "cell_type": "code",
      "metadata": {
        "id": "xbx8W5HhTI4M",
        "colab_type": "code",
        "colab": {}
      },
      "source": [
        "class Embeddings:\n",
        "  \n",
        "  def __init__(self, sentence_1, sentence_2):\n",
        "    self.sentence_1 = sentence_1\n",
        "    self.sentence_2 = sentence_2\n",
        "    self.tokenized_sent_1 = word_tokenize(self.sentence_1)\n",
        "    self.tokenized_sent_2 = word_tokenize(self.sentence_2)\n",
        "    \n",
        "  def get_elmo_embedding(self):\n",
        "    '''Creates ELMo word embeddings for the given words\n",
        "    param: list, list\n",
        "    returns: ndarray, ndarray\n",
        "      Returns the ELMo embeddings of the tokens of two sentences'''\n",
        "    \n",
        "    elmo = ElmoEmbedder()\n",
        "    \n",
        "    elmo_embedding_1 = elmo.embed_sentence(self.tokenized_sent_1)\n",
        "    elmo_embedding_2 = elmo.embed_sentence(self.tokenized_sent_2)\n",
        "\n",
        "    return elmo_embedding_1, elmo_embedding_2\n",
        "    \n",
        "  def get_bert_embedding(self):\n",
        "    '''Creates word embeddings taken from BERT language representation\n",
        "    returns: list, list\n",
        "      Returns the BERT embeddings of the tokens of two sentences'''\n",
        "    \n",
        "    bert_embedding_1  = BertEmbedding().embedding(sentences = self.tokenized_sent_1)\n",
        "    bert_embedding_2  = BertEmbedding().embedding(sentences = self.tokenized_sent_2)\n",
        "    \n",
        "    return bert_embedding_1, bert_embedding_2\n",
        "    \n",
        "  def get_gpt_embedding(self):\n",
        "    '''Creates word embeddings of GPT\n",
        "    returns: tensor\n",
        "      Returns the GPT embeddings of the tokens of two sentences'''\n",
        "    \n",
        "    model= torch.hub.load('huggingface/pytorch-pretrained-BERT', 'openAIGPTModel', 'openai-gpt')\n",
        "    tokenizer=torch.hub.load('huggingface/pytorch-pretrained-BERT', 'openAIGPTTokenizer', 'openai-gpt')\n",
        "\n",
        "    indexed_token_1 = tokenizer.convert_tokens_to_ids(self.tokenized_sent_1)\n",
        "    indexed_token_2 = tokenizer.convert_tokens_to_ids(self.tokenized_sent_2)\n",
        "    \n",
        "    tokens_tensor_1 = torch.tensor([indexed_token_1])\n",
        "    tokens_tensor_2 = torch.tensor([indexed_token_2])\n",
        "\n",
        "    gpt_embedding_1 = model(tokens_tensor_1)\n",
        "    gpt_embedding_2 = model(tokens_tensor_2)\n",
        "\n",
        "    return gpt_embedding_1, gpt_embedding_2"
      ],
      "execution_count": 0,
      "outputs": []
    },
    {
      "cell_type": "markdown",
      "metadata": {
        "id": "nOpZ0j6fK0Sy",
        "colab_type": "text"
      },
      "source": [
        "### Converting Embeddings to list "
      ]
    },
    {
      "cell_type": "code",
      "metadata": {
        "id": "mFHwEu2goLyN",
        "colab_type": "code",
        "colab": {}
      },
      "source": [
        "class Embedding2Array:\n",
        "  def elmo(self,embedding):\n",
        "    ''' Creates the list of arrays of each corresponding word\n",
        "    parameters\n",
        "    embedding : ndarray\n",
        "    returns: list\n",
        "      Returns the list of elmo embedding of each word \n",
        "    '''\n",
        "    word_array = []\n",
        "    for i in range(len(embedding[2])):\n",
        "      word_array.append(embedding[2][i])\n",
        "    return word_array\n",
        "    \n",
        "  def bert(self,embedding):\n",
        "    ''' Creates the list of arrays of each corresponding word\n",
        "    param\n",
        "    embedding: list\n",
        "    returns: list\n",
        "      Returns the list of BERT embedding of each word \n",
        "    '''\n",
        "    word_array = []\n",
        "    for i in range(len(embedding)):\n",
        "      word_array.append(embedding[i][1][0])\n",
        "    return word_array\n",
        "  \n",
        "  def gpt(self,embedding):\n",
        "    ''' Creates the list of arrays of each corresponding word\n",
        "    param\n",
        "    embedding: tensor\n",
        "    returns: list\n",
        "      Returns the list of GPT embedding of each word \n",
        "    '''\n",
        "    word_array = []\n",
        "\n",
        "    for i in range(embedding[0].shape[1]):\n",
        "      word_array.append(embedding[0][0][i].tolist())\n",
        "\n",
        "    return word_array"
      ],
      "execution_count": 0,
      "outputs": []
    },
    {
      "cell_type": "markdown",
      "metadata": {
        "id": "mRpk1Ju0yMFk",
        "colab_type": "text"
      },
      "source": [
        " ## Processing:\n",
        " * Creating a cosine similarity matrix\n",
        " * Plotting the similarity matrix based on the cosine matrix from preprocessing class\n",
        " * Creating a list of similar words of one sentence for each word in the other sentence."
      ]
    },
    {
      "cell_type": "code",
      "metadata": {
        "id": "IiTPsU2hxWcU",
        "colab_type": "code",
        "colab": {}
      },
      "source": [
        "class SimilarityFunctions:\n",
        "\n",
        "  def __init__(self, sentence_1, sentence_2, word_array_1, word_array_2):\n",
        "    self.sentence_1 = sentence_1\n",
        "    self.sentence_2 = sentence_2\n",
        "    self.word_array_1 = word_array_1\n",
        "    self.word_array_2 = word_array_2\n",
        "  \n",
        "  def cosine_similarity_matrix(self):\n",
        "    '''\n",
        "    Creates a matrix depicting the cosine distances between the words of two sentences\n",
        "    returns: array\n",
        "      Similarity matrix of words in two sentences\n",
        "    '''\n",
        "    matrix = np.zeros((len(self.word_array_1), len(self.word_array_2)))\n",
        "\n",
        "    for i in range(0, len(self.word_array_1)):\n",
        "      for j in range(0, len(self.word_array_2)):\n",
        "        matrix[i][j]= scipy.spatial.distance.cosine(self.word_array_1[i], self.word_array_2[j])\n",
        "    return matrix.T\n",
        "  \n",
        "  def plot_similarity_matrix(self, title):\n",
        "    '''Plot the similarity matrix of two sentences\n",
        "    param:\n",
        "    title: str\n",
        "      Labels the plot with the corresponding title\n",
        "    returns: None\n",
        "    '''\n",
        "    x_labels, y_labels = word_tokenize(self.sentence_1), word_tokenize(self.sentence_2)\n",
        "    similarity_matrix = self.cosine_similarity_matrix()\n",
        "    sns.heatmap(similarity_matrix, vmin=0, vmax=1, xticklabels=x_labels, yticklabels=y_labels, cmap=\"YlGnBu\", annot = True)\n",
        "    plt.title(title)\n",
        "    plt.show()    \n",
        "  \n",
        "  def get_similar_words(self):\n",
        "    '''Prints similar word from second sentence for each word in the first sentence\n",
        "    returns: list of similar words\n",
        "    '''\n",
        "\n",
        "    token_1 = word_tokenize(self.sentence_1)\n",
        "    token_2 = word_tokenize(self.sentence_2)\n",
        "    \n",
        "    similarity_matrix = self.cosine_similarity_matrix()\n",
        "    \n",
        "    similar_word_dict = {}\n",
        "    for row in range(0,len(similarity_matrix[0])):\n",
        "      \n",
        "      min_val = min(similarity_matrix.T[row]) #Here min value of transpose is found. To understand it print similarity matrix and find the logic\n",
        "      index = (np.where(similarity_matrix.T[row] == min_val))[0]\n",
        "      similar_word_list = []\n",
        "      \n",
        "      for i in range(0,len(index)):\n",
        "        similar_word_list.append(token_2[index[i]])\n",
        "      similar_word_dict[token_1[row]] = similar_word_list\n",
        "      \n",
        "    print('Similar words in two sentences are :', similar_word_dict)"
      ],
      "execution_count": 0,
      "outputs": []
    },
    {
      "cell_type": "code",
      "metadata": {
        "id": "dtlgJh_X46W4",
        "colab_type": "code",
        "colab": {}
      },
      "source": [
        "class Main:\n",
        "  def __init__(self, sentence_1, sentence_2):\n",
        "    self.first_sentence = sentence_1\n",
        "    self.second_sentence = sentence_2\n",
        "\n",
        "  def elmo(self):\n",
        "    ''' Creates a list of ELMo word embeddings of each sentence\n",
        "    returns: list, list\n",
        "      The list of embeddings of words of each sentence\n",
        "    '''\n",
        "\n",
        "    embed = Embeddings(self.first_sentence, self.second_sentence)\n",
        "    embed2array = Embedding2Array()\n",
        "    first_embedding, second_embedding = embed.get_elmo_embedding()\n",
        "    first_array, second_array = embed2array.elmo(first_embedding), embed2array.elmo(second_embedding)\n",
        "    return first_array, second_array\n",
        "\n",
        "  def bert(self):\n",
        "    '''Creates a list of BERT word embeddings of each sentence\n",
        "    returns: list, list\n",
        "      The list of embeddings of words of each sentenc\n",
        "    '''\n",
        "    embed = Embeddings(self.first_sentence, self.second_sentence)\n",
        "    embed2array = Embedding2Array()\n",
        "    first_embedding, second_embedding = embed.get_bert_embedding()\n",
        "    first_array, second_array = embed2array.bert(first_embedding), embed2array.bert(second_embedding)\n",
        "    return first_array, second_array\n",
        "\n",
        "  def gpt(self):\n",
        "    '''Creates a list of GPT word embeddings of each sentence\n",
        "    returns: list, list\n",
        "      The list of embeddings of words of each sentenc\n",
        "    '''\n",
        "    embed = Embeddings(self.first_sentence, self.second_sentence)\n",
        "    embed2array = Embedding2Array()\n",
        "    first_embedding, second_embedding = embed.get_gpt_embedding()\n",
        "    first_array, second_array = embed2array.gpt(first_embedding), embed2array.gpt(second_embedding)\n",
        "    return first_array, second_array"
      ],
      "execution_count": 0,
      "outputs": []
    },
    {
      "cell_type": "markdown",
      "metadata": {
        "id": "cnknPCwzLJ72",
        "colab_type": "text"
      },
      "source": [
        "--------------------------------------------------------------------------------"
      ]
    },
    {
      "cell_type": "code",
      "metadata": {
        "id": "zIq2fjsO48ze",
        "colab_type": "code",
        "colab": {}
      },
      "source": [
        "class AnalyzeWordEmbeddings:\n",
        "  def __init__(self,sentence_1, sentence_2):\n",
        "    self.sentence_1 = sentence_1\n",
        "    self.sentence_2 = sentence_2\n",
        "    \n",
        "  def bert(self):\n",
        "    '''Plots similarity matrix using BERT embeddings and returns similar words in both the sentences\n",
        "    returns: dict\n",
        "      A dictionary matching the similar words from one sentence to other using BERT embeddings\n",
        "    '''    \n",
        "    main = Main(self.sentence_1, self.sentence_2)\n",
        "    array_1, array_2 = main.bert()\n",
        "    similarityfunc = SimilarityFunctions(self.sentence_1, self.sentence_2, array_1, array_2)\n",
        "    similarity_matrix = similarityfunc.cosine_similarity_matrix()\n",
        "    similarityfunc.plot_similarity_matrix('Similarity plot using BERT embeddings')\n",
        "    similarityfunc.get_similar_words()\n",
        "  \n",
        "  def elmo(self):\n",
        "    '''Plots similarity matrix using ELMo embeddings and returns similar words in both the sentences\n",
        "    returns: dict\n",
        "      A dictionary matching the similar words from one sentence to other using ELMo embeddings\n",
        "    '''      \n",
        "    main = Main(self.sentence_1, self.sentence_2)\n",
        "    array_1, array_2 = main.elmo()\n",
        "    similarityfunc = SimilarityFunctions(self.sentence_1, self.sentence_2, array_1, array_2)\n",
        "    similarity_matrix = similarityfunc.cosine_similarity_matrix()\n",
        "    similarityfunc.plot_similarity_matrix('Similarity plot using ELMo (syntax_based) embeddings')\n",
        "    similarityfunc.get_similar_words()\n",
        "  \n",
        "  def gpt(self):\n",
        "    '''Plots similarity matrix using GPT embeddings and returns similar words in both the sentences\n",
        "    returns: dict\n",
        "      A dictionary matching the similar words from one sentence to other using GPT embeddings\n",
        "    '''    \n",
        "    main = Main(self.sentence_1, self.sentence_2)\n",
        "    array_1, array_2 = main.gpt()\n",
        "    similarityfunc = SimilarityFunctions(self.sentence_1, self.sentence_2, array_1, array_2)\n",
        "    similarity_matrix = similarityfunc.cosine_similarity_matrix()\n",
        "    similarityfunc.plot_similarity_matrix('Similarity plot using GPT embeddings')\n",
        "    similarityfunc.get_similar_words()"
      ],
      "execution_count": 0,
      "outputs": []
    },
    {
      "cell_type": "markdown",
      "metadata": {
        "id": "z3IED8nMLZAC",
        "colab_type": "text"
      },
      "source": [
        "--------------------------------------------------------------------------------"
      ]
    },
    {
      "cell_type": "code",
      "metadata": {
        "id": "FUzei4NlSsmW",
        "colab_type": "code",
        "colab": {}
      },
      "source": [
        "first_sentence_1 = \"Abstraction and reusability.\"\n",
        "second_sentence_1 = \"the main advantages to object-oriented programming  is data abstraction, easier maintenance, and re-usability.\" "
      ],
      "execution_count": 0,
      "outputs": []
    },
    {
      "cell_type": "code",
      "metadata": {
        "id": "qUXgTRN0C9SP",
        "colab_type": "code",
        "colab": {}
      },
      "source": [
        "first_sentence_2 = \"A man cuts a tomato\"\n",
        "second_sentence_2 = \"A woman cuts a potato\""
      ],
      "execution_count": 0,
      "outputs": []
    },
    {
      "cell_type": "code",
      "metadata": {
        "id": "ypC7DHBCD2Vz",
        "colab_type": "code",
        "colab": {}
      },
      "source": [
        "first_sentence_3 = \"Flowers blossom in spring.\"\n",
        "second_sentence_3 = \"Suspension works on spring mechanism.\""
      ],
      "execution_count": 0,
      "outputs": []
    },
    {
      "cell_type": "markdown",
      "metadata": {
        "id": "JUkrG9h0yiFI",
        "colab_type": "text"
      },
      "source": [
        "* Input the sentences and required functions"
      ]
    },
    {
      "cell_type": "code",
      "metadata": {
        "id": "6yEp7UYjwAqv",
        "colab_type": "code",
        "outputId": "395b983e-c31b-4130-b0df-79e70aea0ca3",
        "colab": {
          "base_uri": "https://localhost:8080/",
          "height": 901
        }
      },
      "source": [
        "analyze_word_embed = AnalyzeWordEmbeddings(first_sentence_3, second_sentence_3)\n",
        "analyze_word_embed.bert()\n",
        "analyze_word_embed.elmo()\n",
        "analyze_word_embed.gpt()"
      ],
      "execution_count": 51,
      "outputs": [
        {
          "output_type": "display_data",
          "data": {
            "image/png": "[encoded data removed]",
            "text/plain": [
              "<Figure size 432x288 with 2 Axes>"
            ]
          },
          "metadata": {
            "tags": []
          }
        },
        {
          "output_type": "stream",
          "text": [
            "Similar words in two sentences are : {'Flowers': ['spring'], 'blossom': ['mechanism'], 'in': ['on'], 'spring': ['spring'], '.': ['.']}\n"
          ],
          "name": "stdout"
        },
        {
          "output_type": "display_data",
          "data": {
            "image/png": "[encoded data removed]",
            "text/plain": [
              "<Figure size 432x288 with 2 Axes>"
            ]
          },
          "metadata": {
            "tags": []
          }
        },
        {
          "output_type": "stream",
          "text": [
            "Similar words in two sentences are : {'Flowers': ['Suspension'], 'blossom': ['works'], 'in': ['on'], 'spring': ['spring'], '.': ['.']}\n"
          ],
          "name": "stdout"
        },
        {
          "output_type": "stream",
          "text": [
            "Using cache found in /root/.cache/torch/hub/huggingface_pytorch-pretrained-BERT_master\n",
            "Using cache found in /root/.cache/torch/hub/huggingface_pytorch-pretrained-BERT_master\n"
          ],
          "name": "stderr"
        },
        {
          "output_type": "display_data",
          "data": {
            "image/png": "[encoded data removed]",
            "text/plain": [
              "<Figure size 432x288 with 2 Axes>"
            ]
          },
          "metadata": {
            "tags": []
          }
        },
        {
          "output_type": "stream",
          "text": [
            "Similar words in two sentences are : {'Flowers': ['Suspension'], 'blossom': ['works'], 'in': ['on'], 'spring': ['spring'], '.': ['.']}\n"
          ],
          "name": "stdout"
        }
      ]
    },
    {
      "cell_type": "markdown",
      "metadata": {
        "id": "yWTfK_7DA2Vc",
        "colab_type": "text"
      },
      "source": [
        "<b> Note:</b> \n",
        "* The lighter the map is the more similar the words are...\n",
        "*First_sentence_1 and second_sentence_1 are the sentences from \"Mohler dataset.\""
      ]
    },
    {
      "cell_type": "code",
      "metadata": {
        "id": "uGb0YiCcOUCP",
        "colab_type": "code",
        "colab": {}
      },
      "source": [
        ""
      ],
      "execution_count": 0,
      "outputs": []
    }
  ]
}