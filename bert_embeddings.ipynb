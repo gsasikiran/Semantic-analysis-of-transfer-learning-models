{
  "nbformat": 4,
  "nbformat_minor": 0,
  "metadata": {
    "colab": {
      "name": "bert embeddings.ipynb",
      "version": "0.3.2",
      "provenance": [],
      "collapsed_sections": [],
      "include_colab_link": true
    },
    "kernelspec": {
      "name": "python3",
      "display_name": "Python 3"
    },
    "accelerator": "GPU"
  },
  "cells": [
    {
      "cell_type": "markdown",
      "metadata": {
        "id": "view-in-github",
        "colab_type": "text"
      },
      "source": [
        "<a href=\"https://colab.research.google.com/github/gsasikiran/Semantic-similarity/blob/master/bert_embeddings.ipynb\" target=\"_parent\"><img src=\"https://colab.research.google.com/assets/colab-badge.svg\" alt=\"Open In Colab\"/></a>"
      ]
    },
    {
      "cell_type": "code",
      "metadata": {
        "id": "kmd_k1O4s3t2",
        "colab_type": "code",
        "outputId": "17d17a55-ed99-42a7-c294-8bebd8ac04cf",
        "colab": {
          "base_uri": "https://localhost:8080/",
          "height": 360
        }
      },
      "source": [
        "!pip3 install bert-embedding\n",
        "!apt-get install python-nltk"
      ],
      "execution_count": 0,
      "outputs": [
        {
          "output_type": "stream",
          "text": [
            "Requirement already satisfied: bert-embedding in /usr/local/lib/python3.6/dist-packages (1.0.1)\n",
            "Requirement already satisfied: typing==3.6.6 in /usr/local/lib/python3.6/dist-packages (from bert-embedding) (3.6.6)\n",
            "Requirement already satisfied: gluonnlp==0.6.0 in /usr/local/lib/python3.6/dist-packages (from bert-embedding) (0.6.0)\n",
            "Requirement already satisfied: mxnet==1.4.0 in /usr/local/lib/python3.6/dist-packages (from bert-embedding) (1.4.0)\n",
            "Requirement already satisfied: numpy==1.14.6 in /usr/local/lib/python3.6/dist-packages (from bert-embedding) (1.14.6)\n",
            "Requirement already satisfied: requests>=2.20.0 in /usr/local/lib/python3.6/dist-packages (from mxnet==1.4.0->bert-embedding) (2.21.0)\n",
            "Requirement already satisfied: graphviz<0.9.0,>=0.8.1 in /usr/local/lib/python3.6/dist-packages (from mxnet==1.4.0->bert-embedding) (0.8.4)\n",
            "Requirement already satisfied: certifi>=2017.4.17 in /usr/local/lib/python3.6/dist-packages (from requests>=2.20.0->mxnet==1.4.0->bert-embedding) (2019.3.9)\n",
            "Requirement already satisfied: urllib3<1.25,>=1.21.1 in /usr/local/lib/python3.6/dist-packages (from requests>=2.20.0->mxnet==1.4.0->bert-embedding) (1.24.3)\n",
            "Requirement already satisfied: idna<2.9,>=2.5 in /usr/local/lib/python3.6/dist-packages (from requests>=2.20.0->mxnet==1.4.0->bert-embedding) (2.8)\n",
            "Requirement already satisfied: chardet<3.1.0,>=3.0.2 in /usr/local/lib/python3.6/dist-packages (from requests>=2.20.0->mxnet==1.4.0->bert-embedding) (3.0.4)\n",
            "Reading package lists... Done\n",
            "Building dependency tree       \n",
            "Reading state information... Done\n",
            "python-nltk is already the newest version (3.2.5-1).\n",
            "The following package was automatically installed and is no longer required:\n",
            "  libnvidia-common-410\n",
            "Use 'apt autoremove' to remove it.\n",
            "0 upgraded, 0 newly installed, 0 to remove and 8 not upgraded.\n"
          ],
          "name": "stdout"
        }
      ]
    },
    {
      "cell_type": "code",
      "metadata": {
        "id": "E5kDlws-tjD6",
        "colab_type": "code",
        "outputId": "4e400b98-40e5-40cc-a2fd-de2e6a221a7d",
        "colab": {
          "base_uri": "https://localhost:8080/",
          "height": 51
        }
      },
      "source": [
        "\n",
        "import scipy\n",
        "import matplotlib.pyplot as plt\n",
        "import numpy as np\n",
        "import nltk\n",
        "nltk.download('punkt')\n",
        "\n",
        "from nltk.tokenize import word_tokenize\n",
        "from bert_embedding import BertEmbedding\n",
        "from matplotlib import cm as cm"
      ],
      "execution_count": 0,
      "outputs": [
        {
          "output_type": "stream",
          "text": [
            "[nltk_data] Downloading package punkt to /root/nltk_data...\n",
            "[nltk_data]   Package punkt is already up-to-date!\n"
          ],
          "name": "stdout"
        }
      ]
    },
    {
      "cell_type": "code",
      "metadata": {
        "id": "xbx8W5HhTI4M",
        "colab_type": "code",
        "colab": {}
      },
      "source": [
        "class BERT:\n",
        "  \n",
        "  def __init__(self, first_sentence, second_sentence):\n",
        "    self.sentence_1 = first_sentence\n",
        "    self.sentence_2 = second_sentence\n",
        "    self.splitted_input_1 = word_tokenize(self.sentence_1)\n",
        "    self.splitted_input_2 = word_tokenize(self.sentence_2)\n",
        "    \n",
        "  def get_embedding(self):\n",
        "      embedding_1 = BertEmbedding().embedding(sentences = self.splitted_input_1)\n",
        "      embedding_2 = BertEmbedding().embedding(sentences = self.splitted_input_2)\n",
        "      return embedding_1, embedding_2\n",
        "    \n",
        "  def create_word_arrays(self, embedding):\n",
        "    word_array = []\n",
        "    for i in range(len(embedding)):\n",
        "      word_array.append(embedding[i][1][0])\n",
        "    return word_array\n",
        "\n",
        "  def cosine_similarity_matrix(self, array_1, array_2):\n",
        "    matrix = np.zeros((len(array_1), len(array_2)))\n",
        "    for i in range(0, len(array_1)):\n",
        "      for j in range(0, len(array_2)):\n",
        "        matrix[i][j]= scipy.spatial.distance.cosine(array_1[i], array_2[j])\n",
        "    return matrix.T\n",
        "  \n",
        "  def plot_similarity_matrix(self, word_array_1, word_array_2):\n",
        "    # Code from https://kapilddatascience.wordpress.com/2016/05/29/plotting-similarity-score-in-a-matrix/\n",
        "    x_labels = self.splitted_input_1\n",
        "    y_labels = self.splitted_input_2\n",
        "    \n",
        "    hood_cosine_matrix = self.cosine_similarity_matrix(word_array_1,word_array_2)\n",
        "    fig, ax = plt.subplots()\n",
        "    cmap = cm.get_cmap('YlGnBu')\n",
        "    cax = ax.matshow(hood_cosine_matrix, interpolation='nearest', cmap = cmap)\n",
        "    ax.grid(True)\n",
        "    plt.title('Similarity distance matrix(Bert embeddings)')\n",
        "    plt.xticks(range(len(x_labels)), x_labels);\n",
        "    print(len(x_labels))\n",
        "    plt.yticks(range(len(y_labels)), y_labels);\n",
        "    fig.colorbar(cax)\n",
        "    plt.show()"
      ],
      "execution_count": 0,
      "outputs": []
    },
    {
      "cell_type": "code",
      "metadata": {
        "id": "UIBh_xpX-PwJ",
        "colab_type": "code",
        "outputId": "6693a60f-9aa2-4623-925d-48278e36a84f",
        "colab": {
          "base_uri": "https://localhost:8080/",
          "height": 434
        }
      },
      "source": [
        "def main(first_input, second_input):\n",
        "  bert_embedding = BERT(first_input, second_input)  \n",
        "  first_embedding, second_embedding = bert_embedding.get_embedding()\n",
        "  word_array_1, word_array_2 = bert_embedding.create_word_arrays(first_embedding), bert_embedding.create_word_arrays(second_embedding)  \n",
        "  bert_embedding.plot_similarity_matrix(word_array_1, word_array_2)\n",
        "  \n",
        "if __name__ == '__main__':\n",
        "  input_1 = input(\"Enter the first sentence \")\n",
        "  input_2 = input(\"Enter the second sentence \")\n",
        "  main(input_1, input_2) "
      ],
      "execution_count": 0,
      "outputs": [
        {
          "output_type": "stream",
          "text": [
            "Enter the first sentence A man cut a tomato\n",
            "Enter the second sentence A woman cut a potato\n",
            "(5, 5)\n",
            "[[0.         0.23736441 0.34972    0.         0.26668119]\n",
            " [0.24340415 0.13809276 0.35501099 0.24340415 0.2974236 ]\n",
            " [0.34972    0.36103964 0.         0.34972    0.32728124]\n",
            " [0.         0.23736441 0.34972    0.         0.26668119]\n",
            " [0.26903605 0.25111568 0.39374584 0.26903605 0.16890973]]\n",
            "5\n"
          ],
          "name": "stdout"
        },
        {
          "output_type": "display_data",
          "data": {
            "image/png": "[encoded data removed]",
            "text/plain": [
              "<Figure size 432x288 with 2 Axes>"
            ]
          },
          "metadata": {
            "tags": []
          }
        }
      ]
    },
    {
      "cell_type": "code",
      "metadata": {
        "id": "t60U7_3xg0NM",
        "colab_type": "code",
        "colab": {}
      },
      "source": [
        ""
      ],
      "execution_count": 0,
      "outputs": []
    }
  ]
}
