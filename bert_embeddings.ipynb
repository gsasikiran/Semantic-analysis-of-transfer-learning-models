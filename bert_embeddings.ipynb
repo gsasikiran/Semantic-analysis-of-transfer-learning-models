{
  "nbformat": 4,
  "nbformat_minor": 0,
  "metadata": {
    "colab": {
      "name": "bert embeddings.ipynb",
      "version": "0.3.2",
      "provenance": [],
      "collapsed_sections": [],
      "include_colab_link": true
    },
    "kernelspec": {
      "name": "python3",
      "display_name": "Python 3"
    },
    "accelerator": "GPU"
  },
  "cells": [
    {
      "cell_type": "markdown",
      "metadata": {
        "id": "view-in-github",
        "colab_type": "text"
      },
      "source": [
        "<a href=\"https://colab.research.google.com/github/gsasikiran/Semantic-similarity/blob/master/bert_embeddings.ipynb\" target=\"_parent\"><img src=\"https://colab.research.google.com/assets/colab-badge.svg\" alt=\"Open In Colab\"/></a>"
      ]
    },
    {
      "cell_type": "code",
      "metadata": {
        "id": "kmd_k1O4s3t2",
        "colab_type": "code",
        "outputId": "6b225166-806d-4392-fb7e-8df41e43ceee",
        "colab": {
          "base_uri": "https://localhost:8080/",
          "height": 904
        }
      },
      "source": [
        "!pip3 install bert-embedding\n",
        "!apt-get install python-nltk"
      ],
      "execution_count": 55,
      "outputs": [
        {
          "output_type": "stream",
          "text": [
            "Requirement already satisfied: bert-embedding in /usr/local/lib/python3.6/dist-packages (1.0.1)\n",
            "Requirement already satisfied: numpy==1.14.6 in /usr/local/lib/python3.6/dist-packages (from bert-embedding) (1.14.6)\n",
            "Requirement already satisfied: typing==3.6.6 in /usr/local/lib/python3.6/dist-packages (from bert-embedding) (3.6.6)\n",
            "Requirement already satisfied: gluonnlp==0.6.0 in /usr/local/lib/python3.6/dist-packages (from bert-embedding) (0.6.0)\n",
            "Requirement already satisfied: mxnet==1.4.0 in /usr/local/lib/python3.6/dist-packages (from bert-embedding) (1.4.0)\n",
            "Requirement already satisfied: graphviz<0.9.0,>=0.8.1 in /usr/local/lib/python3.6/dist-packages (from mxnet==1.4.0->bert-embedding) (0.8.4)\n",
            "Requirement already satisfied: requests>=2.20.0 in /usr/local/lib/python3.6/dist-packages (from mxnet==1.4.0->bert-embedding) (2.21.0)\n",
            "Requirement already satisfied: certifi>=2017.4.17 in /usr/local/lib/python3.6/dist-packages (from requests>=2.20.0->mxnet==1.4.0->bert-embedding) (2019.3.9)\n",
            "Requirement already satisfied: idna<2.9,>=2.5 in /usr/local/lib/python3.6/dist-packages (from requests>=2.20.0->mxnet==1.4.0->bert-embedding) (2.8)\n",
            "Requirement already satisfied: urllib3<1.25,>=1.21.1 in /usr/local/lib/python3.6/dist-packages (from requests>=2.20.0->mxnet==1.4.0->bert-embedding) (1.24.3)\n",
            "Requirement already satisfied: chardet<3.1.0,>=3.0.2 in /usr/local/lib/python3.6/dist-packages (from requests>=2.20.0->mxnet==1.4.0->bert-embedding) (3.0.4)\n",
            "Reading package lists... Done\n",
            "Building dependency tree       \n",
            "Reading state information... Done\n",
            "The following package was automatically installed and is no longer required:\n",
            "  libnvidia-common-410\n",
            "Use 'apt autoremove' to remove it.\n",
            "The following additional packages will be installed:\n",
            "  libladr4 prover9 python-six\n",
            "Suggested packages:\n",
            "  ladr4-apps prover9-doc\n",
            "The following NEW packages will be installed:\n",
            "  libladr4 prover9 python-nltk python-six\n",
            "0 upgraded, 4 newly installed, 0 to remove and 8 not upgraded.\n",
            "Need to get 1,177 kB of archives.\n",
            "After this operation, 6,285 kB of additional disk space will be used.\n",
            "Get:1 http://archive.ubuntu.com/ubuntu bionic/universe amd64 libladr4 amd64 0.0.200911a-2.1build1 [168 kB]\n",
            "Get:2 http://archive.ubuntu.com/ubuntu bionic/universe amd64 prover9 amd64 0.0.200911a-2.1build1 [77.8 kB]\n",
            "Get:3 http://archive.ubuntu.com/ubuntu bionic/main amd64 python-six all 1.11.0-2 [11.3 kB]\n",
            "Get:4 http://archive.ubuntu.com/ubuntu bionic/universe amd64 python-nltk all 3.2.5-1 [920 kB]\n",
            "Fetched 1,177 kB in 2s (773 kB/s)\n",
            "Selecting previously unselected package libladr4.\n",
            "(Reading database ... 130912 files and directories currently installed.)\n",
            "Preparing to unpack .../libladr4_0.0.200911a-2.1build1_amd64.deb ...\n",
            "Unpacking libladr4 (0.0.200911a-2.1build1) ...\n",
            "Selecting previously unselected package prover9.\n",
            "Preparing to unpack .../prover9_0.0.200911a-2.1build1_amd64.deb ...\n",
            "Unpacking prover9 (0.0.200911a-2.1build1) ...\n",
            "Selecting previously unselected package python-six.\n",
            "Preparing to unpack .../python-six_1.11.0-2_all.deb ...\n",
            "Unpacking python-six (1.11.0-2) ...\n",
            "Selecting previously unselected package python-nltk.\n",
            "Preparing to unpack .../python-nltk_3.2.5-1_all.deb ...\n",
            "Unpacking python-nltk (3.2.5-1) ...\n",
            "Setting up python-six (1.11.0-2) ...\n",
            "Processing triggers for libc-bin (2.27-3ubuntu1) ...\n",
            "Setting up python-nltk (3.2.5-1) ...\n",
            "Processing triggers for man-db (2.8.3-2ubuntu0.1) ...\n",
            "Setting up libladr4 (0.0.200911a-2.1build1) ...\n",
            "Setting up prover9 (0.0.200911a-2.1build1) ...\n",
            "Processing triggers for libc-bin (2.27-3ubuntu1) ...\n"
          ],
          "name": "stdout"
        }
      ]
    },
    {
      "cell_type": "code",
      "metadata": {
        "id": "E5kDlws-tjD6",
        "colab_type": "code",
        "colab": {
          "base_uri": "https://localhost:8080/",
          "height": 51
        },
        "outputId": "91b71a85-7440-460c-8b44-2bc13f9d28fd"
      },
      "source": [
        "\n",
        "import scipy\n",
        "import matplotlib.pyplot as plt\n",
        "import numpy as np\n",
        "import nltk\n",
        "nltk.download('punkt')\n",
        "\n",
        "from nltk.tokenize import word_tokenize\n",
        "from bert_embedding import BertEmbedding\n",
        "from matplotlib import cm as cm"
      ],
      "execution_count": 130,
      "outputs": [
        {
          "output_type": "stream",
          "text": [
            "[nltk_data] Downloading package punkt to /root/nltk_data...\n",
            "[nltk_data]   Package punkt is already up-to-date!\n"
          ],
          "name": "stdout"
        }
      ]
    },
    {
      "cell_type": "code",
      "metadata": {
        "id": "6cc6EGql6J17",
        "colab_type": "code",
        "colab": {
          "base_uri": "https://localhost:8080/",
          "height": 51
        },
        "outputId": "ae7a5fa3-4b24-439f-a4a4-ab1f191af5cc"
      },
      "source": [
        "input_1 = input('Enter sentence 1')\n",
        "input_2 = input('Enter sentence 2')\n",
        "\n",
        "splitted_input_1 = word_tokenize(input_1)\n",
        "splitted_input_2 = word_tokenize(input_2)\n",
        "\n",
        "embedding_1 = BertEmbedding().embedding(sentences = splitted_input_1)\n",
        "embedding_2 = BertEmbedding().embedding(sentences = splitted_input_2)"
      ],
      "execution_count": 122,
      "outputs": [
        {
          "output_type": "stream",
          "text": [
            "Enter sentence 1A man is cutting a potato.\n",
            "Enter sentence 2A woman is cutting a tomato.\n"
          ],
          "name": "stdout"
        }
      ]
    },
    {
      "cell_type": "code",
      "metadata": {
        "id": "ix1OUqCE-pk2",
        "colab_type": "code",
        "colab": {}
      },
      "source": [
        "def create_word_vectors(embedding):\n",
        "  word = []\n",
        "  for i in range(len(embedding)):\n",
        "    word.append(embedding[i][1][0])\n",
        "  return word\n",
        "\n",
        "def cosine_similarity_matrix(array_1, array_2):\n",
        "  matrix = np.zeros((len(array_1), len(array_2)))\n",
        "  print(matrix.shape)\n",
        "  \n",
        "  for i in range(0, len(array_1)):\n",
        "    for j in range(0, len(array_2)):\n",
        "      matrix[i][j]= scipy.spatial.distance.cosine(array_1[i], array_2[j])\n",
        "  return matrix"
      ],
      "execution_count": 0,
      "outputs": []
    },
    {
      "cell_type": "code",
      "metadata": {
        "id": "5E13SxBQ_HIJ",
        "colab_type": "code",
        "colab": {}
      },
      "source": [
        "word_arrays_1 = create_word_vectors(embedding_1)\n",
        "word_arrays_2 = create_word_vectors(embedding_2)"
      ],
      "execution_count": 0,
      "outputs": []
    },
    {
      "cell_type": "code",
      "metadata": {
        "id": "FUdRKBs79rvx",
        "colab_type": "code",
        "colab": {
          "base_uri": "https://localhost:8080/",
          "height": 298
        },
        "outputId": "cb5cc946-85c7-4ec0-d6b6-9c5bcea32952"
      },
      "source": [
        "# Code from https://kapilddatascience.wordpress.com/2016/05/29/plotting-similarity-score-in-a-matrix/\n",
        "\n",
        "x_labels = splitted_input_1\n",
        "y_labels = splitted_input_2\n",
        "hood_cosine_matrix = cosine_similarity_matrix(word_arrays_1,word_arrays_2)\n",
        " \n",
        "fig, ax = plt.subplots()\n",
        "cmap = cm.get_cmap('YlGnBu')\n",
        "cax = ax.matshow(hood_cosine_matrix, interpolation='nearest', cmap =cmap)\n",
        "ax.grid(True)\n",
        "plt.title('Words Similarity matrix(Bert embeddings)')\n",
        "plt.xticks(range(len(x_labels)), x_labels);\n",
        "plt.yticks(range(len(y_labels)), y_labels);\n",
        "fig.colorbar(cax)\n",
        "plt.show()"
      ],
      "execution_count": 134,
      "outputs": [
        {
          "output_type": "stream",
          "text": [
            "(7, 7)\n"
          ],
          "name": "stdout"
        },
        {
          "output_type": "display_data",
          "data": {
            "image/png": "[encoded data removed]",
            "text/plain": [
              "<Figure size 432x288 with 2 Axes>"
            ]
          },
          "metadata": {
            "tags": []
          }
        }
      ]
    },
    {
      "cell_type": "code",
      "metadata": {
        "id": "UIBh_xpX-PwJ",
        "colab_type": "code",
        "colab": {}
      },
      "source": [
        ""
      ],
      "execution_count": 0,
      "outputs": []
    }
  ]
}